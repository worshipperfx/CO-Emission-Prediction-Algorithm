{
 "cells": [
  {
   "cell_type": "markdown",
   "id": "78c7c222",
   "metadata": {
    "papermill": {
     "duration": 0.013467,
     "end_time": "2025-02-27T04:20:40.196535",
     "exception": false,
     "start_time": "2025-02-27T04:20:40.183068",
     "status": "completed"
    },
    "tags": []
   },
   "source": [
    "# Regression using ANNs and Vanilla (simple) DL Models"
   ]
  },
  {
   "cell_type": "markdown",
   "id": "d50635f9",
   "metadata": {
    "papermill": {
     "duration": 0.010612,
     "end_time": "2025-02-27T04:20:40.217431",
     "exception": false,
     "start_time": "2025-02-27T04:20:40.206819",
     "status": "completed"
    },
    "tags": []
   },
   "source": []
  },
  {
   "cell_type": "markdown",
   "id": "3c3cf8db",
   "metadata": {
    "papermill": {
     "duration": 0.009598,
     "end_time": "2025-02-27T04:20:40.236926",
     "exception": false,
     "start_time": "2025-02-27T04:20:40.227328",
     "status": "completed"
    },
    "tags": []
   },
   "source": [
    "In this section, we have built **ANN Regression models** to **predict CO2 Emission** using:\n",
    "\n",
    "- Machine learning Python library of **scikit-learn** and\n",
    "\n",
    "- the deep learning Python libraries of **Tensorflow - Keras**. "
   ]
  },
  {
   "cell_type": "markdown",
   "id": "57aa8acc",
   "metadata": {
    "papermill": {
     "duration": 0.009594,
     "end_time": "2025-02-27T04:20:40.256408",
     "exception": false,
     "start_time": "2025-02-27T04:20:40.246814",
     "status": "completed"
    },
    "tags": []
   },
   "source": [
    "# I- How to design MLP Artificial Neural Network Model using scikit-learn Library\n",
    "\n",
    "A **multilayer perceptron** (**MLP**) is a type of fully connected feedforward artificial neural network (ANN). It uses Backpropagation training method and the some versions of Stochastic Gradient Descent learning algorithm to learn the right values of weights and biases inorder to map inputs to their corresponding labels given in the training dataset. \n",
    "A MLP has inputs and output layer, and may has one or more hidden layers with many neurons in between inputs and the output layer.\n",
    "\n",
    "**scikit-learn** is a free software machine learning library for the Python programming language. It provides various classification, regression and clustering algorithms and so many other data analysis and analitics tools. \n",
    "\n",
    "A **multilayer perceptron** (**MLP**) network is implemented in the **scikit-learn** Python library as two different classes:\n",
    "\n",
    "- **MLPRegressor** **class** implements a multi-layer perceptron (MLP) that trains using backpropagation with **identity function as activation function (means no activation function)** in the output layer. It uses the **square error as the loss function**, and the output is a set of continuous values.\n",
    "\n",
    "- **MLPClassifier** **class** implements a multi-layer perceptron (MLP) that trains using backpropagation. It uses the **Cross-Entropy loss function**, and the output is a set of continuous values. \n",
    "In the case of **binary classification tasks**, it uses **logistic activation function**. It outputs the values larger or equal to 0.5 are rounded to 1, otherwise to 0.\n",
    "In the case of **multi-class classification**, it uses **Softmax activation** function. \n",
    "\n",
    "Scikit-learn implementations of MLP use **Stochastic Gradient Descent (SGD), Adam, or L-BFGS learning algorithms**. With SGD or Adam, training supports online and mini-batch learning.  ‘L-BFGS’, training does not support online nor mini-batch learning. Empirically, we observed that L-BFGS converges faster and with better solutions on small datasets. For relatively large datasets, however, Adam is very robust. It usually converges quickly and gives pretty good performance. SGD with momentum or nesterov’s momentum, on the other hand, can perform better than those two algorithms if learning rate is correctly tuned.\n",
    "\n",
    "\n",
    "\n",
    "ALL ANN models including the Multi-layer Perceptron networks are **sensitive to feature scaling**, so it is highly recommended to scale your data. For example, scale each attribute on the input vector X to [0, 1] or [-1, +1], or standardize it to have mean 0 and variance 1. \n"
   ]
  },
  {
   "cell_type": "markdown",
   "id": "41ae68fd",
   "metadata": {
    "papermill": {
     "duration": 0.009684,
     "end_time": "2025-02-27T04:20:40.275902",
     "exception": false,
     "start_time": "2025-02-27T04:20:40.266218",
     "status": "completed"
    },
    "tags": []
   },
   "source": [
    "### Step 1 - Loading the required libraries and modules"
   ]
  },
  {
   "cell_type": "code",
   "execution_count": 1,
   "id": "b9017e1a",
   "metadata": {
    "execution": {
     "iopub.execute_input": "2025-02-27T04:20:40.298093Z",
     "iopub.status.busy": "2025-02-27T04:20:40.296917Z",
     "iopub.status.idle": "2025-02-27T04:20:55.952105Z",
     "shell.execute_reply": "2025-02-27T04:20:55.951102Z"
    },
    "papermill": {
     "duration": 15.668868,
     "end_time": "2025-02-27T04:20:55.954508",
     "exception": false,
     "start_time": "2025-02-27T04:20:40.285640",
     "status": "completed"
    },
    "tags": []
   },
   "outputs": [],
   "source": [
    "# This Python 3 environment comes with many helpful analytics libraries installed\n",
    "# It is defined by the kaggle/python docker image: https://github.com/kaggle/docker-python\n",
    "# For example, here's several helpful packages to load in \n",
    "\n",
    "# conda install  TensorFlow\n",
    "# The Official Keras Deep Neural Network Example for CNN \n",
    "###############################\n",
    "# Setting Seed Random Number for Reproducibility\n",
    "import numpy as np # linear algebra\n",
    "np.random.seed(123)  # for reproducibility\n",
    "\n",
    "# Setting Seed Random Number for the TensorFlow Backend\n",
    "import tensorflow as tf\n",
    "tf.random.set_seed(123) # for reproducibility\n",
    "\n",
    "import pandas as pd # data processing, CSV file I/O (e.g. pd.read_csv)\n",
    "import matplotlib.pyplot as plt # plotting library\n",
    "#%matplotlib inline\n",
    "\n",
    "from tensorflow import keras\n",
    "from keras import  backend as K"
   ]
  },
  {
   "cell_type": "code",
   "execution_count": 2,
   "id": "742fef38",
   "metadata": {
    "_cell_guid": "b1076dfc-b9ad-4769-8c92-a6c4dae69d19",
    "_uuid": "8f2839f25d086af736a60e9eeb907d3b93b6e0e5",
    "execution": {
     "iopub.execute_input": "2025-02-27T04:20:55.977132Z",
     "iopub.status.busy": "2025-02-27T04:20:55.976133Z",
     "iopub.status.idle": "2025-02-27T04:20:57.151708Z",
     "shell.execute_reply": "2025-02-27T04:20:57.150667Z"
    },
    "papermill": {
     "duration": 1.189142,
     "end_time": "2025-02-27T04:20:57.153994",
     "exception": false,
     "start_time": "2025-02-27T04:20:55.964852",
     "status": "completed"
    },
    "tags": []
   },
   "outputs": [],
   "source": [
    "# This Python 3 environment comes with many helpful analytics libraries installed\n",
    "# It is defined by the kaggle/python Docker image: https://github.com/kaggle/docker-python\n",
    "# For example, here's several helpful packages to load\n",
    "\n",
    "from sklearn.neural_network import MLPRegressor\n",
    "from sklearn.model_selection import train_test_split\n",
    "from sklearn.datasets import fetch_california_housing\n",
    "from sklearn.preprocessing import StandardScaler\n",
    "from sklearn.metrics import r2_score\n",
    "from sklearn.metrics import mean_squared_error\n"
   ]
  },
  {
   "cell_type": "markdown",
   "id": "299a9674",
   "metadata": {
    "papermill": {
     "duration": 0.009596,
     "end_time": "2025-02-27T04:20:57.173633",
     "exception": false,
     "start_time": "2025-02-27T04:20:57.164037",
     "status": "completed"
    },
    "tags": []
   },
   "source": [
    "### Step 2 - Loading the data and performing basic data exploration"
   ]
  },
  {
   "cell_type": "code",
   "execution_count": 3,
   "id": "b617cbcd",
   "metadata": {
    "execution": {
     "iopub.execute_input": "2025-02-27T04:20:57.195709Z",
     "iopub.status.busy": "2025-02-27T04:20:57.194558Z",
     "iopub.status.idle": "2025-02-27T04:20:57.264083Z",
     "shell.execute_reply": "2025-02-27T04:20:57.262916Z"
    },
    "papermill": {
     "duration": 0.082865,
     "end_time": "2025-02-27T04:20:57.266351",
     "exception": false,
     "start_time": "2025-02-27T04:20:57.183486",
     "status": "completed"
    },
    "tags": []
   },
   "outputs": [
    {
     "data": {
      "text/html": [
       "<div>\n",
       "<style scoped>\n",
       "    .dataframe tbody tr th:only-of-type {\n",
       "        vertical-align: middle;\n",
       "    }\n",
       "\n",
       "    .dataframe tbody tr th {\n",
       "        vertical-align: top;\n",
       "    }\n",
       "\n",
       "    .dataframe thead th {\n",
       "        text-align: right;\n",
       "    }\n",
       "</style>\n",
       "<table border=\"1\" class=\"dataframe\">\n",
       "  <thead>\n",
       "    <tr style=\"text-align: right;\">\n",
       "      <th></th>\n",
       "      <th>Make</th>\n",
       "      <th>Model</th>\n",
       "      <th>Vehicle Class</th>\n",
       "      <th>Engine Size(L)</th>\n",
       "      <th>Cylinders</th>\n",
       "      <th>Transmission</th>\n",
       "      <th>Fuel Type</th>\n",
       "      <th>Fuel Consumption City (L/100 km)</th>\n",
       "      <th>Fuel Consumption Hwy (L/100 km)</th>\n",
       "      <th>Fuel Consumption Comb (L/100 km)</th>\n",
       "      <th>Fuel Consumption Comb (mpg)</th>\n",
       "      <th>CO2 Emissions(g/km)</th>\n",
       "    </tr>\n",
       "  </thead>\n",
       "  <tbody>\n",
       "    <tr>\n",
       "      <th>0</th>\n",
       "      <td>ACURA</td>\n",
       "      <td>ILX</td>\n",
       "      <td>COMPACT</td>\n",
       "      <td>2.0</td>\n",
       "      <td>4</td>\n",
       "      <td>AS5</td>\n",
       "      <td>Z</td>\n",
       "      <td>9.9</td>\n",
       "      <td>6.7</td>\n",
       "      <td>8.5</td>\n",
       "      <td>33</td>\n",
       "      <td>196</td>\n",
       "    </tr>\n",
       "    <tr>\n",
       "      <th>1</th>\n",
       "      <td>ACURA</td>\n",
       "      <td>ILX</td>\n",
       "      <td>COMPACT</td>\n",
       "      <td>2.4</td>\n",
       "      <td>4</td>\n",
       "      <td>M6</td>\n",
       "      <td>Z</td>\n",
       "      <td>11.2</td>\n",
       "      <td>7.7</td>\n",
       "      <td>9.6</td>\n",
       "      <td>29</td>\n",
       "      <td>221</td>\n",
       "    </tr>\n",
       "    <tr>\n",
       "      <th>2</th>\n",
       "      <td>ACURA</td>\n",
       "      <td>ILX HYBRID</td>\n",
       "      <td>COMPACT</td>\n",
       "      <td>1.5</td>\n",
       "      <td>4</td>\n",
       "      <td>AV7</td>\n",
       "      <td>Z</td>\n",
       "      <td>6.0</td>\n",
       "      <td>5.8</td>\n",
       "      <td>5.9</td>\n",
       "      <td>48</td>\n",
       "      <td>136</td>\n",
       "    </tr>\n",
       "    <tr>\n",
       "      <th>3</th>\n",
       "      <td>ACURA</td>\n",
       "      <td>MDX 4WD</td>\n",
       "      <td>SUV - SMALL</td>\n",
       "      <td>3.5</td>\n",
       "      <td>6</td>\n",
       "      <td>AS6</td>\n",
       "      <td>Z</td>\n",
       "      <td>12.7</td>\n",
       "      <td>9.1</td>\n",
       "      <td>11.1</td>\n",
       "      <td>25</td>\n",
       "      <td>255</td>\n",
       "    </tr>\n",
       "    <tr>\n",
       "      <th>4</th>\n",
       "      <td>ACURA</td>\n",
       "      <td>RDX AWD</td>\n",
       "      <td>SUV - SMALL</td>\n",
       "      <td>3.5</td>\n",
       "      <td>6</td>\n",
       "      <td>AS6</td>\n",
       "      <td>Z</td>\n",
       "      <td>12.1</td>\n",
       "      <td>8.7</td>\n",
       "      <td>10.6</td>\n",
       "      <td>27</td>\n",
       "      <td>244</td>\n",
       "    </tr>\n",
       "  </tbody>\n",
       "</table>\n",
       "</div>"
      ],
      "text/plain": [
       "    Make       Model Vehicle Class  Engine Size(L)  Cylinders Transmission  \\\n",
       "0  ACURA         ILX       COMPACT             2.0          4          AS5   \n",
       "1  ACURA         ILX       COMPACT             2.4          4           M6   \n",
       "2  ACURA  ILX HYBRID       COMPACT             1.5          4          AV7   \n",
       "3  ACURA     MDX 4WD   SUV - SMALL             3.5          6          AS6   \n",
       "4  ACURA     RDX AWD   SUV - SMALL             3.5          6          AS6   \n",
       "\n",
       "  Fuel Type  Fuel Consumption City (L/100 km)  \\\n",
       "0         Z                               9.9   \n",
       "1         Z                              11.2   \n",
       "2         Z                               6.0   \n",
       "3         Z                              12.7   \n",
       "4         Z                              12.1   \n",
       "\n",
       "   Fuel Consumption Hwy (L/100 km)  Fuel Consumption Comb (L/100 km)  \\\n",
       "0                              6.7                               8.5   \n",
       "1                              7.7                               9.6   \n",
       "2                              5.8                               5.9   \n",
       "3                              9.1                              11.1   \n",
       "4                              8.7                              10.6   \n",
       "\n",
       "   Fuel Consumption Comb (mpg)  CO2 Emissions(g/km)  \n",
       "0                           33                  196  \n",
       "1                           29                  221  \n",
       "2                           48                  136  \n",
       "3                           25                  255  \n",
       "4                           27                  244  "
      ]
     },
     "execution_count": 3,
     "metadata": {},
     "output_type": "execute_result"
    }
   ],
   "source": [
    "import pandas as pd\n",
    "import numpy as np\n",
    "\n",
    "data = pd.read_csv(\"/kaggle/input/emmissiondata/CO2 Emissions_Canada.csv\")\n",
    "data.head()"
   ]
  },
  {
   "cell_type": "markdown",
   "id": "46f3311e",
   "metadata": {
    "execution": {
     "iopub.execute_input": "2023-02-17T10:32:53.536172Z",
     "iopub.status.busy": "2023-02-17T10:32:53.535736Z",
     "iopub.status.idle": "2023-02-17T10:32:53.627902Z",
     "shell.execute_reply": "2023-02-17T10:32:53.626529Z",
     "shell.execute_reply.started": "2023-02-17T10:32:53.536137Z"
    },
    "papermill": {
     "duration": 0.009833,
     "end_time": "2025-02-27T04:20:57.286498",
     "exception": false,
     "start_time": "2025-02-27T04:20:57.276665",
     "status": "completed"
    },
    "tags": []
   },
   "source": [
    "data = pd.read_csv(\"../input/california-housing-prices/housing.csv\")\n",
    "data.head()"
   ]
  },
  {
   "cell_type": "code",
   "execution_count": 4,
   "id": "f6954f91",
   "metadata": {
    "execution": {
     "iopub.execute_input": "2025-02-27T04:20:57.308394Z",
     "iopub.status.busy": "2025-02-27T04:20:57.308003Z",
     "iopub.status.idle": "2025-02-27T04:20:57.313356Z",
     "shell.execute_reply": "2025-02-27T04:20:57.312347Z"
    },
    "papermill": {
     "duration": 0.01884,
     "end_time": "2025-02-27T04:20:57.315516",
     "exception": false,
     "start_time": "2025-02-27T04:20:57.296676",
     "status": "completed"
    },
    "tags": []
   },
   "outputs": [
    {
     "name": "stdout",
     "output_type": "stream",
     "text": [
      "(7385, 12)\n",
      "<class 'pandas.core.frame.DataFrame'>\n"
     ]
    }
   ],
   "source": [
    "# Shape of the dataset \n",
    "print (data.shape)\n",
    "print(type(data)) # 'pandas.core.frame.DataFrame'\n"
   ]
  },
  {
   "cell_type": "code",
   "execution_count": 5,
   "id": "b5bc3667",
   "metadata": {
    "execution": {
     "iopub.execute_input": "2025-02-27T04:20:57.338487Z",
     "iopub.status.busy": "2025-02-27T04:20:57.337504Z",
     "iopub.status.idle": "2025-02-27T04:20:57.344347Z",
     "shell.execute_reply": "2025-02-27T04:20:57.343172Z"
    },
    "papermill": {
     "duration": 0.020642,
     "end_time": "2025-02-27T04:20:57.346469",
     "exception": false,
     "start_time": "2025-02-27T04:20:57.325827",
     "status": "completed"
    },
    "tags": []
   },
   "outputs": [
    {
     "name": "stdout",
     "output_type": "stream",
     "text": [
      "Make                                 object\n",
      "Model                                object\n",
      "Vehicle Class                        object\n",
      "Engine Size(L)                      float64\n",
      "Cylinders                             int64\n",
      "Transmission                         object\n",
      "Fuel Type                            object\n",
      "Fuel Consumption City (L/100 km)    float64\n",
      "Fuel Consumption Hwy (L/100 km)     float64\n",
      "Fuel Consumption Comb (L/100 km)    float64\n",
      "Fuel Consumption Comb (mpg)           int64\n",
      "CO2 Emissions(g/km)                   int64\n",
      "dtype: object\n"
     ]
    }
   ],
   "source": [
    "# data type of the variables (columns)\n",
    "print(data.dtypes)\n",
    "# object means text data, float means decimal numerical data here."
   ]
  },
  {
   "cell_type": "code",
   "execution_count": 6,
   "id": "ca99eeaa",
   "metadata": {
    "execution": {
     "iopub.execute_input": "2025-02-27T04:20:57.369045Z",
     "iopub.status.busy": "2025-02-27T04:20:57.368678Z",
     "iopub.status.idle": "2025-02-27T04:20:57.402302Z",
     "shell.execute_reply": "2025-02-27T04:20:57.401183Z"
    },
    "papermill": {
     "duration": 0.047402,
     "end_time": "2025-02-27T04:20:57.404571",
     "exception": false,
     "start_time": "2025-02-27T04:20:57.357169",
     "status": "completed"
    },
    "tags": []
   },
   "outputs": [
    {
     "data": {
      "text/html": [
       "<div>\n",
       "<style scoped>\n",
       "    .dataframe tbody tr th:only-of-type {\n",
       "        vertical-align: middle;\n",
       "    }\n",
       "\n",
       "    .dataframe tbody tr th {\n",
       "        vertical-align: top;\n",
       "    }\n",
       "\n",
       "    .dataframe thead th {\n",
       "        text-align: right;\n",
       "    }\n",
       "</style>\n",
       "<table border=\"1\" class=\"dataframe\">\n",
       "  <thead>\n",
       "    <tr style=\"text-align: right;\">\n",
       "      <th></th>\n",
       "      <th>Engine Size(L)</th>\n",
       "      <th>Cylinders</th>\n",
       "      <th>Fuel Consumption City (L/100 km)</th>\n",
       "      <th>Fuel Consumption Hwy (L/100 km)</th>\n",
       "      <th>Fuel Consumption Comb (L/100 km)</th>\n",
       "      <th>Fuel Consumption Comb (mpg)</th>\n",
       "      <th>CO2 Emissions(g/km)</th>\n",
       "    </tr>\n",
       "  </thead>\n",
       "  <tbody>\n",
       "    <tr>\n",
       "      <th>count</th>\n",
       "      <td>7385.000000</td>\n",
       "      <td>7385.000000</td>\n",
       "      <td>7385.000000</td>\n",
       "      <td>7385.000000</td>\n",
       "      <td>7385.000000</td>\n",
       "      <td>7385.000000</td>\n",
       "      <td>7385.000000</td>\n",
       "    </tr>\n",
       "    <tr>\n",
       "      <th>mean</th>\n",
       "      <td>3.160068</td>\n",
       "      <td>5.615030</td>\n",
       "      <td>12.556534</td>\n",
       "      <td>9.041706</td>\n",
       "      <td>10.975071</td>\n",
       "      <td>27.481652</td>\n",
       "      <td>250.584699</td>\n",
       "    </tr>\n",
       "    <tr>\n",
       "      <th>std</th>\n",
       "      <td>1.354170</td>\n",
       "      <td>1.828307</td>\n",
       "      <td>3.500274</td>\n",
       "      <td>2.224456</td>\n",
       "      <td>2.892506</td>\n",
       "      <td>7.231879</td>\n",
       "      <td>58.512679</td>\n",
       "    </tr>\n",
       "    <tr>\n",
       "      <th>min</th>\n",
       "      <td>0.900000</td>\n",
       "      <td>3.000000</td>\n",
       "      <td>4.200000</td>\n",
       "      <td>4.000000</td>\n",
       "      <td>4.100000</td>\n",
       "      <td>11.000000</td>\n",
       "      <td>96.000000</td>\n",
       "    </tr>\n",
       "    <tr>\n",
       "      <th>25%</th>\n",
       "      <td>2.000000</td>\n",
       "      <td>4.000000</td>\n",
       "      <td>10.100000</td>\n",
       "      <td>7.500000</td>\n",
       "      <td>8.900000</td>\n",
       "      <td>22.000000</td>\n",
       "      <td>208.000000</td>\n",
       "    </tr>\n",
       "    <tr>\n",
       "      <th>50%</th>\n",
       "      <td>3.000000</td>\n",
       "      <td>6.000000</td>\n",
       "      <td>12.100000</td>\n",
       "      <td>8.700000</td>\n",
       "      <td>10.600000</td>\n",
       "      <td>27.000000</td>\n",
       "      <td>246.000000</td>\n",
       "    </tr>\n",
       "    <tr>\n",
       "      <th>75%</th>\n",
       "      <td>3.700000</td>\n",
       "      <td>6.000000</td>\n",
       "      <td>14.600000</td>\n",
       "      <td>10.200000</td>\n",
       "      <td>12.600000</td>\n",
       "      <td>32.000000</td>\n",
       "      <td>288.000000</td>\n",
       "    </tr>\n",
       "    <tr>\n",
       "      <th>max</th>\n",
       "      <td>8.400000</td>\n",
       "      <td>16.000000</td>\n",
       "      <td>30.600000</td>\n",
       "      <td>20.600000</td>\n",
       "      <td>26.100000</td>\n",
       "      <td>69.000000</td>\n",
       "      <td>522.000000</td>\n",
       "    </tr>\n",
       "  </tbody>\n",
       "</table>\n",
       "</div>"
      ],
      "text/plain": [
       "       Engine Size(L)    Cylinders  Fuel Consumption City (L/100 km)  \\\n",
       "count     7385.000000  7385.000000                       7385.000000   \n",
       "mean         3.160068     5.615030                         12.556534   \n",
       "std          1.354170     1.828307                          3.500274   \n",
       "min          0.900000     3.000000                          4.200000   \n",
       "25%          2.000000     4.000000                         10.100000   \n",
       "50%          3.000000     6.000000                         12.100000   \n",
       "75%          3.700000     6.000000                         14.600000   \n",
       "max          8.400000    16.000000                         30.600000   \n",
       "\n",
       "       Fuel Consumption Hwy (L/100 km)  Fuel Consumption Comb (L/100 km)  \\\n",
       "count                      7385.000000                       7385.000000   \n",
       "mean                          9.041706                         10.975071   \n",
       "std                           2.224456                          2.892506   \n",
       "min                           4.000000                          4.100000   \n",
       "25%                           7.500000                          8.900000   \n",
       "50%                           8.700000                         10.600000   \n",
       "75%                          10.200000                         12.600000   \n",
       "max                          20.600000                         26.100000   \n",
       "\n",
       "       Fuel Consumption Comb (mpg)  CO2 Emissions(g/km)  \n",
       "count                  7385.000000          7385.000000  \n",
       "mean                     27.481652           250.584699  \n",
       "std                       7.231879            58.512679  \n",
       "min                      11.000000            96.000000  \n",
       "25%                      22.000000           208.000000  \n",
       "50%                      27.000000           246.000000  \n",
       "75%                      32.000000           288.000000  \n",
       "max                      69.000000           522.000000  "
      ]
     },
     "execution_count": 6,
     "metadata": {},
     "output_type": "execute_result"
    }
   ],
   "source": [
    "# describe() function only list the numerical columns, and \n",
    "# display some statistical information about them.\n",
    "data.describe() # display only numerical columns, add include='all' to display all columns"
   ]
  },
  {
   "cell_type": "code",
   "execution_count": 7,
   "id": "3fe773cd",
   "metadata": {
    "execution": {
     "iopub.execute_input": "2025-02-27T04:20:57.427740Z",
     "iopub.status.busy": "2025-02-27T04:20:57.426757Z",
     "iopub.status.idle": "2025-02-27T04:20:57.437314Z",
     "shell.execute_reply": "2025-02-27T04:20:57.436291Z"
    },
    "papermill": {
     "duration": 0.024113,
     "end_time": "2025-02-27T04:20:57.439341",
     "exception": false,
     "start_time": "2025-02-27T04:20:57.415228",
     "status": "completed"
    },
    "tags": []
   },
   "outputs": [
    {
     "data": {
      "text/plain": [
       "Make                                0\n",
       "Model                               0\n",
       "Vehicle Class                       0\n",
       "Engine Size(L)                      0\n",
       "Cylinders                           0\n",
       "Transmission                        0\n",
       "Fuel Type                           0\n",
       "Fuel Consumption City (L/100 km)    0\n",
       "Fuel Consumption Hwy (L/100 km)     0\n",
       "Fuel Consumption Comb (L/100 km)    0\n",
       "Fuel Consumption Comb (mpg)         0\n",
       "CO2 Emissions(g/km)                 0\n",
       "dtype: int64"
      ]
     },
     "execution_count": 7,
     "metadata": {},
     "output_type": "execute_result"
    }
   ],
   "source": [
    "# check if there is a missing data\n",
    "data.isnull().sum()"
   ]
  },
  {
   "cell_type": "markdown",
   "id": "9233f7c2",
   "metadata": {
    "papermill": {
     "duration": 0.010532,
     "end_time": "2025-02-27T04:20:57.460534",
     "exception": false,
     "start_time": "2025-02-27T04:20:57.450002",
     "status": "completed"
    },
    "tags": []
   },
   "source": [
    "### Step 3 - Setting the input variable (inputs, features) and output variable (response variable)."
   ]
  },
  {
   "cell_type": "code",
   "execution_count": 8,
   "id": "5623fd05",
   "metadata": {
    "execution": {
     "iopub.execute_input": "2025-02-27T04:20:57.483782Z",
     "iopub.status.busy": "2025-02-27T04:20:57.483344Z",
     "iopub.status.idle": "2025-02-27T04:20:57.501359Z",
     "shell.execute_reply": "2025-02-27T04:20:57.500329Z"
    },
    "papermill": {
     "duration": 0.03209,
     "end_time": "2025-02-27T04:20:57.503452",
     "exception": false,
     "start_time": "2025-02-27T04:20:57.471362",
     "status": "completed"
    },
    "tags": []
   },
   "outputs": [
    {
     "data": {
      "text/html": [
       "<div>\n",
       "<style scoped>\n",
       "    .dataframe tbody tr th:only-of-type {\n",
       "        vertical-align: middle;\n",
       "    }\n",
       "\n",
       "    .dataframe tbody tr th {\n",
       "        vertical-align: top;\n",
       "    }\n",
       "\n",
       "    .dataframe thead th {\n",
       "        text-align: right;\n",
       "    }\n",
       "</style>\n",
       "<table border=\"1\" class=\"dataframe\">\n",
       "  <thead>\n",
       "    <tr style=\"text-align: right;\">\n",
       "      <th></th>\n",
       "      <th>Engine Size(L)</th>\n",
       "      <th>Cylinders</th>\n",
       "      <th>Fuel Consumption City (L/100 km)</th>\n",
       "      <th>Fuel Consumption Hwy (L/100 km)</th>\n",
       "      <th>Fuel Consumption Comb (L/100 km)</th>\n",
       "    </tr>\n",
       "  </thead>\n",
       "  <tbody>\n",
       "    <tr>\n",
       "      <th>0</th>\n",
       "      <td>2.0</td>\n",
       "      <td>4</td>\n",
       "      <td>9.9</td>\n",
       "      <td>6.7</td>\n",
       "      <td>8.5</td>\n",
       "    </tr>\n",
       "    <tr>\n",
       "      <th>1</th>\n",
       "      <td>2.4</td>\n",
       "      <td>4</td>\n",
       "      <td>11.2</td>\n",
       "      <td>7.7</td>\n",
       "      <td>9.6</td>\n",
       "    </tr>\n",
       "    <tr>\n",
       "      <th>2</th>\n",
       "      <td>1.5</td>\n",
       "      <td>4</td>\n",
       "      <td>6.0</td>\n",
       "      <td>5.8</td>\n",
       "      <td>5.9</td>\n",
       "    </tr>\n",
       "  </tbody>\n",
       "</table>\n",
       "</div>"
      ],
      "text/plain": [
       "   Engine Size(L)  Cylinders  Fuel Consumption City (L/100 km)  \\\n",
       "0             2.0          4                               9.9   \n",
       "1             2.4          4                              11.2   \n",
       "2             1.5          4                               6.0   \n",
       "\n",
       "   Fuel Consumption Hwy (L/100 km)  Fuel Consumption Comb (L/100 km)  \n",
       "0                              6.7                               8.5  \n",
       "1                              7.7                               9.6  \n",
       "2                              5.8                               5.9  "
      ]
     },
     "execution_count": 8,
     "metadata": {},
     "output_type": "execute_result"
    }
   ],
   "source": [
    "# Identify your input variable (inputs)  (select the numerical columns for this level)\n",
    "X = data[['Engine Size(L)','Cylinders','Fuel Consumption City (L/100 km)','Fuel Consumption Hwy (L/100 km)','Fuel Consumption Comb (L/100 km)']]\n",
    "# Display the first 3 rows of the inputs\n",
    "X.head(3)"
   ]
  },
  {
   "cell_type": "code",
   "execution_count": 9,
   "id": "6fe8e17b",
   "metadata": {
    "execution": {
     "iopub.execute_input": "2025-02-27T04:20:57.527033Z",
     "iopub.status.busy": "2025-02-27T04:20:57.526655Z",
     "iopub.status.idle": "2025-02-27T04:20:57.536388Z",
     "shell.execute_reply": "2025-02-27T04:20:57.535338Z"
    },
    "papermill": {
     "duration": 0.023812,
     "end_time": "2025-02-27T04:20:57.538239",
     "exception": false,
     "start_time": "2025-02-27T04:20:57.514427",
     "status": "completed"
    },
    "tags": []
   },
   "outputs": [
    {
     "data": {
      "text/html": [
       "<div>\n",
       "<style scoped>\n",
       "    .dataframe tbody tr th:only-of-type {\n",
       "        vertical-align: middle;\n",
       "    }\n",
       "\n",
       "    .dataframe tbody tr th {\n",
       "        vertical-align: top;\n",
       "    }\n",
       "\n",
       "    .dataframe thead th {\n",
       "        text-align: right;\n",
       "    }\n",
       "</style>\n",
       "<table border=\"1\" class=\"dataframe\">\n",
       "  <thead>\n",
       "    <tr style=\"text-align: right;\">\n",
       "      <th></th>\n",
       "      <th>CO2 Emissions(g/km)</th>\n",
       "    </tr>\n",
       "  </thead>\n",
       "  <tbody>\n",
       "    <tr>\n",
       "      <th>0</th>\n",
       "      <td>196</td>\n",
       "    </tr>\n",
       "    <tr>\n",
       "      <th>1</th>\n",
       "      <td>221</td>\n",
       "    </tr>\n",
       "    <tr>\n",
       "      <th>2</th>\n",
       "      <td>136</td>\n",
       "    </tr>\n",
       "  </tbody>\n",
       "</table>\n",
       "</div>"
      ],
      "text/plain": [
       "   CO2 Emissions(g/km)\n",
       "0                  196\n",
       "1                  221\n",
       "2                  136"
      ]
     },
     "execution_count": 9,
     "metadata": {},
     "output_type": "execute_result"
    }
   ],
   "source": [
    "# Identify your output variable\n",
    "# 'CO2 Emissions(g/km)'\n",
    "y = data[['CO2 Emissions(g/km)']]\n",
    "# Display the first 3 rows of the output\n",
    "y.head(3)"
   ]
  },
  {
   "cell_type": "markdown",
   "id": "882591af",
   "metadata": {
    "execution": {
     "iopub.execute_input": "2023-02-17T10:47:16.058553Z",
     "iopub.status.busy": "2023-02-17T10:47:16.058164Z",
     "iopub.status.idle": "2023-02-17T10:47:16.070194Z",
     "shell.execute_reply": "2023-02-17T10:47:16.068905Z",
     "shell.execute_reply.started": "2023-02-17T10:47:16.058519Z"
    },
    "papermill": {
     "duration": 0.010514,
     "end_time": "2025-02-27T04:20:57.559785",
     "exception": false,
     "start_time": "2025-02-27T04:20:57.549271",
     "status": "completed"
    },
    "tags": []
   },
   "source": [
    "y = data[['median_house_value']]\n",
    "y.head(5)"
   ]
  },
  {
   "cell_type": "markdown",
   "id": "af3b5425",
   "metadata": {
    "papermill": {
     "duration": 0.010509,
     "end_time": "2025-02-27T04:20:57.581211",
     "exception": false,
     "start_time": "2025-02-27T04:20:57.570702",
     "status": "completed"
    },
    "tags": []
   },
   "source": [
    "### Step 4 - Spliting the training and test datasets."
   ]
  },
  {
   "cell_type": "code",
   "execution_count": 10,
   "id": "da6ae219",
   "metadata": {
    "execution": {
     "iopub.execute_input": "2025-02-27T04:20:57.604333Z",
     "iopub.status.busy": "2025-02-27T04:20:57.603959Z",
     "iopub.status.idle": "2025-02-27T04:20:57.613558Z",
     "shell.execute_reply": "2025-02-27T04:20:57.612678Z"
    },
    "papermill": {
     "duration": 0.023786,
     "end_time": "2025-02-27T04:20:57.615706",
     "exception": false,
     "start_time": "2025-02-27T04:20:57.591920",
     "status": "completed"
    },
    "tags": []
   },
   "outputs": [],
   "source": [
    "from sklearn.model_selection import train_test_split\n",
    "\n",
    "# Step 1: Divide the input and output data (X, y) into the %20 test and %80 training using random state value of 1\n",
    "X_train, X_test, y_train, y_test = train_test_split(X,y,test_size =0.2,random_state=1)"
   ]
  },
  {
   "cell_type": "markdown",
   "id": "2e258750",
   "metadata": {
    "papermill": {
     "duration": 0.010797,
     "end_time": "2025-02-27T04:20:57.637638",
     "exception": false,
     "start_time": "2025-02-27T04:20:57.626841",
     "status": "completed"
    },
    "tags": []
   },
   "source": [
    "### Step 5 - Scalling/Normalization of the input data"
   ]
  },
  {
   "cell_type": "code",
   "execution_count": 11,
   "id": "91605c9b",
   "metadata": {
    "execution": {
     "iopub.execute_input": "2025-02-27T04:20:57.661333Z",
     "iopub.status.busy": "2025-02-27T04:20:57.660958Z",
     "iopub.status.idle": "2025-02-27T04:20:57.671558Z",
     "shell.execute_reply": "2025-02-27T04:20:57.670696Z"
    },
    "papermill": {
     "duration": 0.024958,
     "end_time": "2025-02-27T04:20:57.673674",
     "exception": false,
     "start_time": "2025-02-27T04:20:57.648716",
     "status": "completed"
    },
    "tags": []
   },
   "outputs": [],
   "source": [
    "from sklearn.preprocessing import StandardScaler\n",
    "\n",
    "# Scale the inputs using the StandardScaler\n",
    "scaler = StandardScaler()\n",
    "X_trainscaled=scaler.fit_transform(X_train)\n",
    "X_testscaled=scaler.transform(X_test)"
   ]
  },
  {
   "cell_type": "markdown",
   "id": "7d1c6ee6",
   "metadata": {
    "papermill": {
     "duration": 0.01108,
     "end_time": "2025-02-27T04:20:57.695766",
     "exception": false,
     "start_time": "2025-02-27T04:20:57.684686",
     "status": "completed"
    },
    "tags": []
   },
   "source": [
    "### Step 6 - Define, compile, and fit (train) the regression ANN model."
   ]
  },
  {
   "cell_type": "code",
   "execution_count": 12,
   "id": "512088b0",
   "metadata": {
    "execution": {
     "iopub.execute_input": "2025-02-27T04:20:57.719801Z",
     "iopub.status.busy": "2025-02-27T04:20:57.719420Z",
     "iopub.status.idle": "2025-02-27T04:20:57.730182Z",
     "shell.execute_reply": "2025-02-27T04:20:57.729064Z"
    },
    "papermill": {
     "duration": 0.025234,
     "end_time": "2025-02-27T04:20:57.732215",
     "exception": false,
     "start_time": "2025-02-27T04:20:57.706981",
     "status": "completed"
    },
    "tags": []
   },
   "outputs": [
    {
     "data": {
      "text/html": [
       "<style>#sk-container-id-1 {color: black;background-color: white;}#sk-container-id-1 pre{padding: 0;}#sk-container-id-1 div.sk-toggleable {background-color: white;}#sk-container-id-1 label.sk-toggleable__label {cursor: pointer;display: block;width: 100%;margin-bottom: 0;padding: 0.3em;box-sizing: border-box;text-align: center;}#sk-container-id-1 label.sk-toggleable__label-arrow:before {content: \"▸\";float: left;margin-right: 0.25em;color: #696969;}#sk-container-id-1 label.sk-toggleable__label-arrow:hover:before {color: black;}#sk-container-id-1 div.sk-estimator:hover label.sk-toggleable__label-arrow:before {color: black;}#sk-container-id-1 div.sk-toggleable__content {max-height: 0;max-width: 0;overflow: hidden;text-align: left;background-color: #f0f8ff;}#sk-container-id-1 div.sk-toggleable__content pre {margin: 0.2em;color: black;border-radius: 0.25em;background-color: #f0f8ff;}#sk-container-id-1 input.sk-toggleable__control:checked~div.sk-toggleable__content {max-height: 200px;max-width: 100%;overflow: auto;}#sk-container-id-1 input.sk-toggleable__control:checked~label.sk-toggleable__label-arrow:before {content: \"▾\";}#sk-container-id-1 div.sk-estimator input.sk-toggleable__control:checked~label.sk-toggleable__label {background-color: #d4ebff;}#sk-container-id-1 div.sk-label input.sk-toggleable__control:checked~label.sk-toggleable__label {background-color: #d4ebff;}#sk-container-id-1 input.sk-hidden--visually {border: 0;clip: rect(1px 1px 1px 1px);clip: rect(1px, 1px, 1px, 1px);height: 1px;margin: -1px;overflow: hidden;padding: 0;position: absolute;width: 1px;}#sk-container-id-1 div.sk-estimator {font-family: monospace;background-color: #f0f8ff;border: 1px dotted black;border-radius: 0.25em;box-sizing: border-box;margin-bottom: 0.5em;}#sk-container-id-1 div.sk-estimator:hover {background-color: #d4ebff;}#sk-container-id-1 div.sk-parallel-item::after {content: \"\";width: 100%;border-bottom: 1px solid gray;flex-grow: 1;}#sk-container-id-1 div.sk-label:hover label.sk-toggleable__label {background-color: #d4ebff;}#sk-container-id-1 div.sk-serial::before {content: \"\";position: absolute;border-left: 1px solid gray;box-sizing: border-box;top: 0;bottom: 0;left: 50%;z-index: 0;}#sk-container-id-1 div.sk-serial {display: flex;flex-direction: column;align-items: center;background-color: white;padding-right: 0.2em;padding-left: 0.2em;position: relative;}#sk-container-id-1 div.sk-item {position: relative;z-index: 1;}#sk-container-id-1 div.sk-parallel {display: flex;align-items: stretch;justify-content: center;background-color: white;position: relative;}#sk-container-id-1 div.sk-item::before, #sk-container-id-1 div.sk-parallel-item::before {content: \"\";position: absolute;border-left: 1px solid gray;box-sizing: border-box;top: 0;bottom: 0;left: 50%;z-index: -1;}#sk-container-id-1 div.sk-parallel-item {display: flex;flex-direction: column;z-index: 1;position: relative;background-color: white;}#sk-container-id-1 div.sk-parallel-item:first-child::after {align-self: flex-end;width: 50%;}#sk-container-id-1 div.sk-parallel-item:last-child::after {align-self: flex-start;width: 50%;}#sk-container-id-1 div.sk-parallel-item:only-child::after {width: 0;}#sk-container-id-1 div.sk-dashed-wrapped {border: 1px dashed gray;margin: 0 0.4em 0.5em 0.4em;box-sizing: border-box;padding-bottom: 0.4em;background-color: white;}#sk-container-id-1 div.sk-label label {font-family: monospace;font-weight: bold;display: inline-block;line-height: 1.2em;}#sk-container-id-1 div.sk-label-container {text-align: center;}#sk-container-id-1 div.sk-container {/* jupyter's `normalize.less` sets `[hidden] { display: none; }` but bootstrap.min.css set `[hidden] { display: none !important; }` so we also need the `!important` here to be able to override the default hidden behavior on the sphinx rendered scikit-learn.org. See: https://github.com/scikit-learn/scikit-learn/issues/21755 */display: inline-block !important;position: relative;}#sk-container-id-1 div.sk-text-repr-fallback {display: none;}</style><div id=\"sk-container-id-1\" class=\"sk-top-container\"><div class=\"sk-text-repr-fallback\"><pre>MLPRegressor(hidden_layer_sizes=(50, 3), max_iter=500, random_state=1)</pre><b>In a Jupyter environment, please rerun this cell to show the HTML representation or trust the notebook. <br />On GitHub, the HTML representation is unable to render, please try loading this page with nbviewer.org.</b></div><div class=\"sk-container\" hidden><div class=\"sk-item\"><div class=\"sk-estimator sk-toggleable\"><input class=\"sk-toggleable__control sk-hidden--visually\" id=\"sk-estimator-id-1\" type=\"checkbox\" checked><label for=\"sk-estimator-id-1\" class=\"sk-toggleable__label sk-toggleable__label-arrow\">MLPRegressor</label><div class=\"sk-toggleable__content\"><pre>MLPRegressor(hidden_layer_sizes=(50, 3), max_iter=500, random_state=1)</pre></div></div></div></div></div>"
      ],
      "text/plain": [
       "MLPRegressor(hidden_layer_sizes=(50, 3), max_iter=500, random_state=1)"
      ]
     },
     "execution_count": 12,
     "metadata": {},
     "output_type": "execute_result"
    }
   ],
   "source": [
    "from sklearn.neural_network import MLPRegressor\n",
    "\n",
    "# Step 2: Design an ANN model using 2 hidden layers with the numbers of 50 and 3 neurons, relu activation function, adam training method\n",
    "net = MLPRegressor(hidden_layer_sizes=(50,3),\n",
    "                   activation=\"relu\",\n",
    "                   solver=\"adam\",\n",
    "                   random_state=1, \n",
    "                   max_iter=500\n",
    "                  )\n",
    "net\n"
   ]
  },
  {
   "cell_type": "code",
   "execution_count": 13,
   "id": "9526b38a",
   "metadata": {
    "execution": {
     "iopub.execute_input": "2025-02-27T04:20:57.756530Z",
     "iopub.status.busy": "2025-02-27T04:20:57.756154Z",
     "iopub.status.idle": "2025-02-27T04:21:01.463608Z",
     "shell.execute_reply": "2025-02-27T04:21:01.462501Z"
    },
    "papermill": {
     "duration": 3.722212,
     "end_time": "2025-02-27T04:21:01.465847",
     "exception": false,
     "start_time": "2025-02-27T04:20:57.743635",
     "status": "completed"
    },
    "tags": []
   },
   "outputs": [
    {
     "name": "stderr",
     "output_type": "stream",
     "text": [
      "/opt/conda/lib/python3.10/site-packages/sklearn/neural_network/_multilayer_perceptron.py:1623: DataConversionWarning: A column-vector y was passed when a 1d array was expected. Please change the shape of y to (n_samples, ), for example using ravel().\n",
      "  y = column_or_1d(y, warn=True)\n"
     ]
    },
    {
     "data": {
      "text/html": [
       "<style>#sk-container-id-2 {color: black;background-color: white;}#sk-container-id-2 pre{padding: 0;}#sk-container-id-2 div.sk-toggleable {background-color: white;}#sk-container-id-2 label.sk-toggleable__label {cursor: pointer;display: block;width: 100%;margin-bottom: 0;padding: 0.3em;box-sizing: border-box;text-align: center;}#sk-container-id-2 label.sk-toggleable__label-arrow:before {content: \"▸\";float: left;margin-right: 0.25em;color: #696969;}#sk-container-id-2 label.sk-toggleable__label-arrow:hover:before {color: black;}#sk-container-id-2 div.sk-estimator:hover label.sk-toggleable__label-arrow:before {color: black;}#sk-container-id-2 div.sk-toggleable__content {max-height: 0;max-width: 0;overflow: hidden;text-align: left;background-color: #f0f8ff;}#sk-container-id-2 div.sk-toggleable__content pre {margin: 0.2em;color: black;border-radius: 0.25em;background-color: #f0f8ff;}#sk-container-id-2 input.sk-toggleable__control:checked~div.sk-toggleable__content {max-height: 200px;max-width: 100%;overflow: auto;}#sk-container-id-2 input.sk-toggleable__control:checked~label.sk-toggleable__label-arrow:before {content: \"▾\";}#sk-container-id-2 div.sk-estimator input.sk-toggleable__control:checked~label.sk-toggleable__label {background-color: #d4ebff;}#sk-container-id-2 div.sk-label input.sk-toggleable__control:checked~label.sk-toggleable__label {background-color: #d4ebff;}#sk-container-id-2 input.sk-hidden--visually {border: 0;clip: rect(1px 1px 1px 1px);clip: rect(1px, 1px, 1px, 1px);height: 1px;margin: -1px;overflow: hidden;padding: 0;position: absolute;width: 1px;}#sk-container-id-2 div.sk-estimator {font-family: monospace;background-color: #f0f8ff;border: 1px dotted black;border-radius: 0.25em;box-sizing: border-box;margin-bottom: 0.5em;}#sk-container-id-2 div.sk-estimator:hover {background-color: #d4ebff;}#sk-container-id-2 div.sk-parallel-item::after {content: \"\";width: 100%;border-bottom: 1px solid gray;flex-grow: 1;}#sk-container-id-2 div.sk-label:hover label.sk-toggleable__label {background-color: #d4ebff;}#sk-container-id-2 div.sk-serial::before {content: \"\";position: absolute;border-left: 1px solid gray;box-sizing: border-box;top: 0;bottom: 0;left: 50%;z-index: 0;}#sk-container-id-2 div.sk-serial {display: flex;flex-direction: column;align-items: center;background-color: white;padding-right: 0.2em;padding-left: 0.2em;position: relative;}#sk-container-id-2 div.sk-item {position: relative;z-index: 1;}#sk-container-id-2 div.sk-parallel {display: flex;align-items: stretch;justify-content: center;background-color: white;position: relative;}#sk-container-id-2 div.sk-item::before, #sk-container-id-2 div.sk-parallel-item::before {content: \"\";position: absolute;border-left: 1px solid gray;box-sizing: border-box;top: 0;bottom: 0;left: 50%;z-index: -1;}#sk-container-id-2 div.sk-parallel-item {display: flex;flex-direction: column;z-index: 1;position: relative;background-color: white;}#sk-container-id-2 div.sk-parallel-item:first-child::after {align-self: flex-end;width: 50%;}#sk-container-id-2 div.sk-parallel-item:last-child::after {align-self: flex-start;width: 50%;}#sk-container-id-2 div.sk-parallel-item:only-child::after {width: 0;}#sk-container-id-2 div.sk-dashed-wrapped {border: 1px dashed gray;margin: 0 0.4em 0.5em 0.4em;box-sizing: border-box;padding-bottom: 0.4em;background-color: white;}#sk-container-id-2 div.sk-label label {font-family: monospace;font-weight: bold;display: inline-block;line-height: 1.2em;}#sk-container-id-2 div.sk-label-container {text-align: center;}#sk-container-id-2 div.sk-container {/* jupyter's `normalize.less` sets `[hidden] { display: none; }` but bootstrap.min.css set `[hidden] { display: none !important; }` so we also need the `!important` here to be able to override the default hidden behavior on the sphinx rendered scikit-learn.org. See: https://github.com/scikit-learn/scikit-learn/issues/21755 */display: inline-block !important;position: relative;}#sk-container-id-2 div.sk-text-repr-fallback {display: none;}</style><div id=\"sk-container-id-2\" class=\"sk-top-container\"><div class=\"sk-text-repr-fallback\"><pre>MLPRegressor(hidden_layer_sizes=(50, 3), max_iter=500, random_state=1)</pre><b>In a Jupyter environment, please rerun this cell to show the HTML representation or trust the notebook. <br />On GitHub, the HTML representation is unable to render, please try loading this page with nbviewer.org.</b></div><div class=\"sk-container\" hidden><div class=\"sk-item\"><div class=\"sk-estimator sk-toggleable\"><input class=\"sk-toggleable__control sk-hidden--visually\" id=\"sk-estimator-id-2\" type=\"checkbox\" checked><label for=\"sk-estimator-id-2\" class=\"sk-toggleable__label sk-toggleable__label-arrow\">MLPRegressor</label><div class=\"sk-toggleable__content\"><pre>MLPRegressor(hidden_layer_sizes=(50, 3), max_iter=500, random_state=1)</pre></div></div></div></div></div>"
      ],
      "text/plain": [
       "MLPRegressor(hidden_layer_sizes=(50, 3), max_iter=500, random_state=1)"
      ]
     },
     "execution_count": 13,
     "metadata": {},
     "output_type": "execute_result"
    }
   ],
   "source": [
    "# Step 3: train your ANN model using the training data.\n",
    "net.fit(X_train, y_train)"
   ]
  },
  {
   "cell_type": "markdown",
   "id": "fb0993a1",
   "metadata": {
    "papermill": {
     "duration": 0.012589,
     "end_time": "2025-02-27T04:21:01.490138",
     "exception": false,
     "start_time": "2025-02-27T04:21:01.477549",
     "status": "completed"
    },
    "tags": []
   },
   "source": [
    "### Step 7 - Display some properties of the trained neural network"
   ]
  },
  {
   "cell_type": "markdown",
   "id": "ce8f7ce1",
   "metadata": {
    "papermill": {
     "duration": 0.011201,
     "end_time": "2025-02-27T04:21:01.513226",
     "exception": false,
     "start_time": "2025-02-27T04:21:01.502025",
     "status": "completed"
    },
    "tags": []
   },
   "source": [
    "The **coef_** attribute is implemented when the fit() method is called. Before that, it will be undefined."
   ]
  },
  {
   "cell_type": "code",
   "execution_count": 14,
   "id": "0465068e",
   "metadata": {
    "execution": {
     "iopub.execute_input": "2025-02-27T04:21:01.538447Z",
     "iopub.status.busy": "2025-02-27T04:21:01.538046Z",
     "iopub.status.idle": "2025-02-27T04:21:01.543743Z",
     "shell.execute_reply": "2025-02-27T04:21:01.542538Z"
    },
    "papermill": {
     "duration": 0.021235,
     "end_time": "2025-02-27T04:21:01.545864",
     "exception": false,
     "start_time": "2025-02-27T04:21:01.524629",
     "status": "completed"
    },
    "tags": []
   },
   "outputs": [
    {
     "name": "stdout",
     "output_type": "stream",
     "text": [
      "(5, 50)\n",
      "(50, 3)\n",
      "(3, 1)\n"
     ]
    }
   ],
   "source": [
    "# display the arhitecture of the neural network\n",
    "for coef in net.coefs_:\n",
    "    print(coef.shape)"
   ]
  },
  {
   "cell_type": "code",
   "execution_count": 15,
   "id": "f32ff0bb",
   "metadata": {
    "execution": {
     "iopub.execute_input": "2025-02-27T04:21:01.570716Z",
     "iopub.status.busy": "2025-02-27T04:21:01.570292Z",
     "iopub.status.idle": "2025-02-27T04:21:01.580079Z",
     "shell.execute_reply": "2025-02-27T04:21:01.579044Z"
    },
    "papermill": {
     "duration": 0.025318,
     "end_time": "2025-02-27T04:21:01.582867",
     "exception": false,
     "start_time": "2025-02-27T04:21:01.557549",
     "status": "completed"
    },
    "tags": []
   },
   "outputs": [
    {
     "name": "stdout",
     "output_type": "stream",
     "text": [
      "Layer 1 weights:\n",
      "[[ 2.48283554e-165  2.85246303e-001 -3.86529823e-001 -2.92411191e-002\n",
      "  -2.56250113e-001 -5.80698279e-002 -4.73672033e-005 -1.86125180e-001\n",
      "  -1.99332566e-002  2.20915863e-001 -1.05743685e-003  3.91684584e-001\n",
      "   1.11538969e-002  4.37420580e-001 -2.81471886e-002  3.17341684e-001\n",
      "  -1.64692635e-002  2.68639979e-001 -4.08370523e-002  9.57687295e-136\n",
      "  -1.09118803e-135  7.69006184e-002 -1.61847365e-002  2.35705729e-001\n",
      "   1.74010422e-001  4.70454137e-001 -4.71076047e-002 -9.94738821e-002\n",
      "   6.46541380e-132  2.72337961e-001 -3.82478989e-001 -1.08879364e-001\n",
      "   5.37211986e-001 -1.22313012e-170  9.99010316e-002  7.37221565e-002\n",
      "  -1.38809463e-001  4.08596444e-001 -1.30559711e-001  3.71141521e-001\n",
      "  -7.01773514e-002  2.36119078e-001 -2.02711384e-002  2.41201824e-137\n",
      "  -3.74073779e-002 -2.49825118e-168 -5.76770855e-122 -4.47738378e-149\n",
      "   3.99803769e-002 -3.23212096e-002]\n",
      " [ 6.72957601e-114  2.98158646e-001 -2.31795130e-001 -3.91888182e-002\n",
      "  -2.88364646e-002 -5.21605485e-002 -1.87737929e-003 -2.20171700e-001\n",
      "   1.46010043e-001  3.36967538e-001 -2.81853059e-002  2.92866316e-002\n",
      "   3.49318563e-001  1.38047231e-001 -3.90627064e-002  2.41151677e-001\n",
      "  -1.62171926e-002  2.61497842e-001  5.01571376e-001  1.10526833e-164\n",
      "   1.73369447e-123 -7.05128250e-002 -2.24767688e-002  1.66632462e-001\n",
      "  -1.42259317e-001  2.85745461e-003  5.31651332e-001  1.18906595e-001\n",
      "   1.82106092e-143  9.45994710e-002  1.73119685e-001  3.11143734e-002\n",
      "   4.22470883e-001 -1.54969536e-156 -1.77245591e-001  4.68665065e-001\n",
      "  -7.30412169e-001  5.02107556e-001  3.03841386e-001  2.99259459e-001\n",
      "  -8.94786480e-001  5.96591180e-001 -2.00823681e-002  9.65497916e-166\n",
      "   1.80843722e-001 -7.79615161e-141  1.81609510e-123 -3.75058642e-166\n",
      "  -1.44766576e-001  3.06711539e-001]\n",
      " [-2.48291897e-153  1.28033111e-001  1.87308482e-001 -2.18764864e-002\n",
      "   2.46026184e-001  2.64291508e-001 -3.08251136e-003  2.75661038e-001\n",
      "   1.46615869e-001  4.99836268e-001 -3.11354696e-002 -4.00213709e-001\n",
      "   4.66198745e-001  2.93463344e-001 -3.98502900e-002  3.50223765e-001\n",
      "  -1.64247918e-002  4.84236874e-001  3.12135913e-001 -3.54307014e-126\n",
      "   6.71970960e-114 -1.16755010e-001 -3.06003020e-002 -2.36163678e-001\n",
      "   1.60229666e-001  2.09529494e-001  2.35801973e-001  4.06041587e-001\n",
      "  -3.79617385e-126 -2.25079265e-001  3.50703484e-004  2.34414316e-001\n",
      "   2.47970933e-001  6.29980303e-114  1.72213970e-001 -6.56616610e-003\n",
      "   4.33260991e-001  8.92011794e-002  4.04252973e-001  3.43684022e-001\n",
      "   4.61373377e-001 -5.10899465e-001 -3.10541938e-002 -1.36597116e-125\n",
      "  -1.04117011e-001  2.15023089e-124 -2.37109604e-139 -5.78462313e-148\n",
      "   1.96342401e-001 -1.36423739e-001]\n",
      " [ 8.36605678e-120  5.24667161e-001  1.40473746e-002 -5.75736526e-002\n",
      "  -1.87218293e-001  4.41304462e-001 -1.93205784e-003 -8.32139631e-002\n",
      "   4.30190075e-001  4.66893214e-001 -1.76962860e-002  2.18017841e-002\n",
      "   3.35600555e-001  4.45976917e-001 -3.44355816e-002 -6.74886683e-002\n",
      "  -2.75288339e-002  2.75224745e-001  3.11250423e-001  1.30709696e-166\n",
      "  -1.36119756e-152  9.18142968e-002 -1.99208819e-002 -8.46470410e-002\n",
      "  -4.37651312e-002  4.21250640e-001  3.95163091e-001  9.69915539e-002\n",
      "   3.35432440e-119 -1.26025250e-001  5.87504692e-002 -2.79452249e-001\n",
      "   4.59141195e-001  3.38236889e-119 -1.83926948e-001  4.43575144e-001\n",
      "  -7.85012456e-002  3.21102532e-001  2.44629265e-001  5.34232295e-001\n",
      "  -7.13712255e-002 -6.04514837e-002 -1.99309445e-002 -2.26902052e-140\n",
      "   5.46850054e-001 -3.03112622e-119 -2.34432344e-113  4.37122421e-141\n",
      "   2.92186582e-001  5.60645630e-001]\n",
      " [-2.61782158e-117  1.90037398e-001  2.21793889e-001 -1.01694698e-002\n",
      "  -9.64177677e-002  2.12754144e-001 -1.99547570e-003 -2.37519221e-002\n",
      "   3.41858372e-001  4.74967946e-001 -1.76556714e-002  2.10808026e-001\n",
      "  -4.15840373e-003 -5.68141285e-002 -3.58758758e-002  2.13243831e-001\n",
      "  -3.43212979e-002  5.32839322e-001  4.16375607e-001 -1.08577114e-113\n",
      "  -1.46012424e-132 -2.30295236e-002 -2.29107170e-002  1.58924391e-001\n",
      "  -1.80104163e-001  5.05154176e-001  2.88397553e-001  4.59636310e-001\n",
      "   2.71716840e-130  2.02537825e-001 -7.21654073e-002 -4.94360781e-002\n",
      "   4.39059809e-001  1.41726669e-147 -3.25390006e-002  2.64715780e-001\n",
      "   2.38850505e-001  2.51793102e-001  1.46452709e-001  4.13178723e-001\n",
      "   2.62869818e-001  1.56549598e-001 -2.02180297e-002  1.35678705e-133\n",
      "   4.19640033e-001  1.15954274e-161 -5.39887885e-118  6.21212916e-166\n",
      "   2.98972650e-001  4.93867067e-001]]\n",
      "\n",
      "Layer 2 weights:\n",
      "[[-1.58931298e-133  1.66775518e-125 -8.32232974e-151]\n",
      " [ 2.84568865e-001  2.10608734e-002  2.26219944e-001]\n",
      " [-3.66549977e-003 -8.27990295e-002  1.64836976e-001]\n",
      " [-1.62324422e-002  2.44095191e-002  2.52203413e-002]\n",
      " [-1.44196446e-001 -2.42789507e-001 -1.87049872e-001]\n",
      " [ 3.13356920e-001  4.73741413e-001  1.24210378e-001]\n",
      " [-1.21288349e-008 -1.03369460e-013 -5.32214836e-013]\n",
      " [ 1.60856297e-003 -2.91999037e-001 -3.77907182e-001]\n",
      " [ 1.87210613e-001  1.70060582e-001 -4.87581546e-002]\n",
      " [ 2.67256823e-001  2.21655552e-001  2.95252012e-001]\n",
      " [-3.51137193e-002 -1.45936382e-002 -2.41751711e-002]\n",
      " [-3.14306533e-001 -2.38010439e-001 -7.58217930e-001]\n",
      " [ 1.13484397e-001  4.90097109e-001  4.70337263e-001]\n",
      " [ 2.70120459e-001  4.98892948e-001  5.54053493e-001]\n",
      " [ 1.40814050e-004  4.24994357e-003 -3.95755021e-004]\n",
      " [ 3.50224997e-001  3.89474437e-001  3.26057826e-001]\n",
      " [ 1.84838754e-002  2.66864810e-005  1.76158753e-002]\n",
      " [ 3.50984900e-001  3.97446302e-002  3.74529929e-002]\n",
      " [ 2.87084105e-001  1.00791745e-001  4.03868229e-001]\n",
      " [ 2.83507199e-168  4.93650300e-138 -8.75564795e-112]\n",
      " [ 3.92828951e-149 -3.41600694e-128 -6.15780416e-122]\n",
      " [-7.39859331e-037  8.20237937e-061 -4.23192553e-060]\n",
      " [-8.75729276e-004 -5.43563057e-004 -6.87064144e-004]\n",
      " [-3.47107894e-001 -2.34654687e-001 -4.54771361e-001]\n",
      " [-1.73073585e-001  2.21160407e-001 -2.59788778e-001]\n",
      " [ 1.24388371e-001  4.65869748e-001  3.51062454e-001]\n",
      " [ 3.55069461e-001  2.40705321e-002  1.93768260e-001]\n",
      " [ 2.67093430e-001  5.47603348e-001  1.82353125e-002]\n",
      " [ 6.31138451e-142  9.65057148e-144 -7.05133449e-142]\n",
      " [-2.96757244e-002 -3.12661369e-001 -7.63866777e-003]\n",
      " [-1.99459366e-001  1.80134152e-001 -1.56106288e-001]\n",
      " [-2.19967986e-001  1.71965847e-001  3.40187114e-001]\n",
      " [ 1.29742945e-001  3.85776174e-001  2.24461737e-001]\n",
      " [ 7.93793251e-171  3.00589795e-115  1.24880192e-134]\n",
      " [-2.95045545e-001  1.60357813e-001 -3.55668290e-003]\n",
      " [ 5.62098296e-001  8.33909750e-002  1.13071650e-001]\n",
      " [-3.82912654e+000 -3.85960827e+000 -3.86212595e+000]\n",
      " [ 3.17440645e-001  4.40020470e-001  3.67706783e-001]\n",
      " [ 3.98935761e-001  1.20571182e-001  4.58626654e-001]\n",
      " [ 1.50427127e-001  4.24105069e-001  2.90580530e-001]\n",
      " [-4.00021710e+000 -4.05649836e+000 -4.08347543e+000]\n",
      " [-2.35491235e+000 -2.16610873e+000 -2.38801074e+000]\n",
      " [ 3.99510814e-003  2.02392091e-002  1.97564385e-002]\n",
      " [-5.98754128e-143  9.74774398e-169 -1.27486674e-168]\n",
      " [ 2.90944911e-001  2.95731895e-001  5.15811222e-001]\n",
      " [ 4.08597098e-163 -9.15944172e-122  1.00161337e-115]\n",
      " [ 5.76020778e-139 -1.87735921e-125  7.73837639e-161]\n",
      " [ 5.65106996e-112 -1.48558587e-169  3.82673304e-111]\n",
      " [ 5.73521206e-001  5.50968201e-001  4.76454328e-001]\n",
      " [ 5.41009872e-001  3.14390823e-002  3.87658419e-002]]\n",
      "\n",
      "Layer 3 weights:\n",
      "[[1.63282692]\n",
      " [0.95872319]\n",
      " [1.02637474]]\n",
      "\n"
     ]
    }
   ],
   "source": [
    "# # Step 4: display the learned weights\n",
    "for layer, weights in enumerate(net.coefs_):\n",
    "    print(f\"Layer {layer + 1} weights:\\n{weights}\\n\")"
   ]
  },
  {
   "cell_type": "code",
   "execution_count": 16,
   "id": "edf81598",
   "metadata": {
    "execution": {
     "iopub.execute_input": "2025-02-27T04:21:01.607989Z",
     "iopub.status.busy": "2025-02-27T04:21:01.607619Z",
     "iopub.status.idle": "2025-02-27T04:21:01.613942Z",
     "shell.execute_reply": "2025-02-27T04:21:01.612879Z"
    },
    "papermill": {
     "duration": 0.021254,
     "end_time": "2025-02-27T04:21:01.616148",
     "exception": false,
     "start_time": "2025-02-27T04:21:01.594894",
     "status": "completed"
    },
    "tags": []
   },
   "outputs": [
    {
     "name": "stdout",
     "output_type": "stream",
     "text": [
      "Layer 1 biases:\n",
      "[-0.33002356  1.26124376  0.14183799  0.29650174  0.04529717  1.16219783\n",
      "  0.02614999 -0.92629309  0.66309364  0.73657165  0.15960669  0.4820927\n",
      "  0.93265396  0.79013283  0.19570133  0.5922481   0.0967646   0.78988153\n",
      "  0.61981905 -0.05891608 -0.06508045 -0.13764517  0.0576414   0.01191377\n",
      "  0.23751264  0.88022519  0.64234122  0.68760089 -0.10348207  0.17368262\n",
      "  0.25028022  0.17705233  0.97186276 -0.15179543 -0.18775924  0.95961644\n",
      " -3.8844534   0.86281854  0.70147817  0.89602857 -3.98487875  1.78862562\n",
      "  0.025396   -0.02265131  0.71730506 -0.28523152 -0.08064063 -0.27768987\n",
      "  0.91552977  0.58206162]\n",
      "\n",
      "Layer 2 biases:\n",
      "[0.21843582 0.5634484  0.74973641]\n",
      "\n",
      "Layer 3 biases:\n",
      "[1.38240245]\n",
      "\n"
     ]
    }
   ],
   "source": [
    "# Step 5: display the learned biases\n",
    "for layer, biases in enumerate(net.intercepts_):\n",
    "    print(f\"Layer {layer + 1} biases:\\n{biases}\\n\")"
   ]
  },
  {
   "cell_type": "markdown",
   "id": "1b6587ed",
   "metadata": {
    "papermill": {
     "duration": 0.011529,
     "end_time": "2025-02-27T04:21:01.639436",
     "exception": false,
     "start_time": "2025-02-27T04:21:01.627907",
     "status": "completed"
    },
    "tags": []
   },
   "source": [
    "* Displaying the some properties of the trained neural network"
   ]
  },
  {
   "cell_type": "code",
   "execution_count": 17,
   "id": "5f7ccd89",
   "metadata": {
    "execution": {
     "iopub.execute_input": "2025-02-27T04:21:01.664318Z",
     "iopub.status.busy": "2025-02-27T04:21:01.663931Z",
     "iopub.status.idle": "2025-02-27T04:21:01.670826Z",
     "shell.execute_reply": "2025-02-27T04:21:01.669739Z"
    },
    "papermill": {
     "duration": 0.021918,
     "end_time": "2025-02-27T04:21:01.673030",
     "exception": false,
     "start_time": "2025-02-27T04:21:01.651112",
     "status": "completed"
    },
    "tags": []
   },
   "outputs": [
    {
     "name": "stdout",
     "output_type": "stream",
     "text": [
      "Activation function for hidden layers : relu\n",
      "Output layer activation automatically set : identity\n",
      "the input size automatically set : 5\n",
      "Solver (training algorithm) : adam\n",
      "Alpha value : 0.0001\n",
      "Number of the training : 253\n"
     ]
    }
   ],
   "source": [
    "print('Activation function for hidden layers : {}'.format(net.activation))\n",
    "# Hidden layer activation functions {‘identity’, ‘logistic’, ‘tanh’, ‘relu’}, default=’relu’\n",
    "# Activation function for the all hidden layers is the same\n",
    "print('Output layer activation automatically set : {}'.format(net.out_activation_))\n",
    "# MLPRegressor uses identity transfer function as output activation automatically. In the current version you can not set this parameter.\n",
    "print('the input size automatically set : {}'.format(net.n_features_in_))\n",
    "# MLPRegressor sets input size during the training by looking at the input variable automatically. In the current version you can not set this parameter.\n",
    "print('Solver (training algorithm) : {}'.format(net.solver))\n",
    "# solver{‘lbfgs’, ‘sgd’, ‘adam’}, default=’adam’\n",
    "print('Alpha value : {}'.format(net.alpha))\n",
    "print('Number of the training : {}'.format(net.n_iter_))\n",
    "\n",
    "# MLPRegressor uses the Mean Square Error loss function. In the current version you can not set this parameter.\n",
    "\n"
   ]
  },
  {
   "cell_type": "markdown",
   "id": "a1704f81",
   "metadata": {
    "papermill": {
     "duration": 0.011638,
     "end_time": "2025-02-27T04:21:01.696782",
     "exception": false,
     "start_time": "2025-02-27T04:21:01.685144",
     "status": "completed"
    },
    "tags": []
   },
   "source": [
    "### Step 8 - Predict on the test data and estimate accuracy of the trained network."
   ]
  },
  {
   "cell_type": "code",
   "execution_count": 18,
   "id": "6db016d0",
   "metadata": {
    "execution": {
     "iopub.execute_input": "2025-02-27T04:21:01.722543Z",
     "iopub.status.busy": "2025-02-27T04:21:01.722087Z",
     "iopub.status.idle": "2025-02-27T04:21:01.733014Z",
     "shell.execute_reply": "2025-02-27T04:21:01.731733Z"
    },
    "papermill": {
     "duration": 0.026463,
     "end_time": "2025-02-27T04:21:01.735151",
     "exception": false,
     "start_time": "2025-02-27T04:21:01.708688",
     "status": "completed"
    },
    "tags": []
   },
   "outputs": [
    {
     "name": "stdout",
     "output_type": "stream",
     "text": [
      "The test accuracy (R^2 score) of the ANN model is: 0.9356\n"
     ]
    }
   ],
   "source": [
    "# Step 6: Display the test accuracy of the ANN model using the test data\n",
    "test_score = net.score(X_test, y_test)\n",
    "print(f\"The test accuracy (R^2 score) of the ANN model is: {test_score:.4f}\")"
   ]
  },
  {
   "cell_type": "markdown",
   "id": "d0558510",
   "metadata": {
    "papermill": {
     "duration": 0.034482,
     "end_time": "2025-02-27T04:21:01.797008",
     "exception": false,
     "start_time": "2025-02-27T04:21:01.762526",
     "status": "completed"
    },
    "tags": []
   },
   "source": [
    "### Step 9 - Scoring: Making the prediction using the trained network "
   ]
  },
  {
   "cell_type": "code",
   "execution_count": 19,
   "id": "42645f3c",
   "metadata": {
    "execution": {
     "iopub.execute_input": "2025-02-27T04:21:01.857676Z",
     "iopub.status.busy": "2025-02-27T04:21:01.857276Z",
     "iopub.status.idle": "2025-02-27T04:21:01.865864Z",
     "shell.execute_reply": "2025-02-27T04:21:01.864934Z"
    },
    "papermill": {
     "duration": 0.036468,
     "end_time": "2025-02-27T04:21:01.868672",
     "exception": false,
     "start_time": "2025-02-27T04:21:01.832204",
     "status": "completed"
    },
    "tags": []
   },
   "outputs": [
    {
     "name": "stdout",
     "output_type": "stream",
     "text": [
      "The predicted output is [5.6, 4, 16, 12, 15] is: 259.9971378202153\n"
     ]
    },
    {
     "name": "stderr",
     "output_type": "stream",
     "text": [
      "/opt/conda/lib/python3.10/site-packages/sklearn/base.py:439: UserWarning: X does not have valid feature names, but MLPRegressor was fitted with feature names\n",
      "  warnings.warn(\n"
     ]
    }
   ],
   "source": [
    "# Step 7: Make a prediction and display for the following inputs [5.6,4,16,12,15]\n",
    "input_data = np.array([[5.6, 4, 16, 12, 15]])\n",
    "prediction = net.predict(input_data)\n",
    "print(f\"The predicted output is [5.6, 4, 16, 12, 15] is: {prediction[0]}\")"
   ]
  },
  {
   "cell_type": "code",
   "execution_count": 20,
   "id": "afa7204d",
   "metadata": {
    "execution": {
     "iopub.execute_input": "2025-02-27T04:21:01.894853Z",
     "iopub.status.busy": "2025-02-27T04:21:01.894153Z",
     "iopub.status.idle": "2025-02-27T04:21:02.022827Z",
     "shell.execute_reply": "2025-02-27T04:21:02.021749Z"
    },
    "papermill": {
     "duration": 0.149949,
     "end_time": "2025-02-27T04:21:02.030754",
     "exception": false,
     "start_time": "2025-02-27T04:21:01.880805",
     "status": "completed"
    },
    "tags": []
   },
   "outputs": [
    {
     "data": {
      "application/vnd.jupyter.widget-view+json": {
       "model_id": "d77d9af87caf43f4baeb8c3750f4d8b0",
       "version_major": 2,
       "version_minor": 0
      },
      "text/plain": [
       "interactive(children=(FloatSlider(value=3.0, description='Engine Size:', max=8.1, min=3.0), FloatSlider(value=…"
      ]
     },
     "metadata": {},
     "output_type": "display_data"
    }
   ],
   "source": [
    "# Using the trained network in the production environment to make the real time prediction\n",
    "import ipywidgets as widgets\n",
    "from ipywidgets import interact\n",
    "import numpy as np\n",
    "# Using interact() as a decorator\n",
    "@interact(\n",
    "    # Specifying the handler for the arguments in the function predict\n",
    "    x1 = widgets.FloatSlider(min=3, max=8.1, step=0.1, value=3, description=\"Engine Size:\"),\n",
    "    x2 = widgets.FloatSlider(min=3, max=16, step=1, value=3, description=\"Cylinders:\"),\n",
    "    x3 = widgets.FloatSlider(min=4, max=31, step=0.1, value=4, description=\"Fuel Con City:\"),\n",
    "    x4 = widgets.FloatSlider(min=4, max=21, step=0.1, value=4, description=\"Fuel Con Hwy\"),\n",
    "    x5 = widgets.FloatSlider(min=4, max=26.5, step=0.1, value=4, description=\"Fuel Con (km):\")\n",
    ")\n",
    "\n",
    "def predict(x1, x2, x3, x4, x5):\n",
    "   \n",
    "    # present new data\n",
    "    new_input = [x1, x2, x3, x4, x5]\n",
    "    # make a prediction\n",
    "    yhat = net.predict([new_input])\n",
    "    # summarize prediction\n",
    "    print('If inputs are [%1.1f, %1.1f,%1.1f, %1.1f,%1.1f] predicted CO2 is : %d' % (x1,x2,x3,x4,x5,yhat))"
   ]
  },
  {
   "cell_type": "markdown",
   "id": "a728f4a2",
   "metadata": {
    "papermill": {
     "duration": 0.011747,
     "end_time": "2025-02-27T04:21:02.055319",
     "exception": false,
     "start_time": "2025-02-27T04:21:02.043572",
     "status": "completed"
    },
    "tags": []
   },
   "source": [
    "# II - How to design ANN for regression tasks using the Tensorflow - Keras"
   ]
  },
  {
   "cell_type": "code",
   "execution_count": 21,
   "id": "97d27d2d",
   "metadata": {
    "execution": {
     "iopub.execute_input": "2025-02-27T04:21:02.080959Z",
     "iopub.status.busy": "2025-02-27T04:21:02.080558Z",
     "iopub.status.idle": "2025-02-27T04:21:02.163443Z",
     "shell.execute_reply": "2025-02-27T04:21:02.162299Z"
    },
    "papermill": {
     "duration": 0.099686,
     "end_time": "2025-02-27T04:21:02.166947",
     "exception": false,
     "start_time": "2025-02-27T04:21:02.067261",
     "status": "completed"
    },
    "tags": []
   },
   "outputs": [],
   "source": [
    "import numpy as np # linear algebra\n",
    "import pandas as pd # data processing, CSV file I/O (e.g. pd.read_csv)\n",
    "import matplotlib.pyplot as pyplot\n",
    "from sklearn.metrics import mean_squared_error\n",
    "\n",
    "from tensorflow.keras.models import Sequential\n",
    "from tensorflow.keras.layers import Dense, Input, Activation\n",
    "from tensorflow.keras.utils import to_categorical, plot_model\n"
   ]
  },
  {
   "cell_type": "markdown",
   "id": "1c7d0e9a",
   "metadata": {
    "papermill": {
     "duration": 0.012406,
     "end_time": "2025-02-27T04:21:02.193356",
     "exception": false,
     "start_time": "2025-02-27T04:21:02.180950",
     "status": "completed"
    },
    "tags": []
   },
   "source": [
    "## Design (Implement) the Neural network "
   ]
  },
  {
   "cell_type": "markdown",
   "id": "1bd49ee2",
   "metadata": {
    "papermill": {
     "duration": 0.01228,
     "end_time": "2025-02-27T04:21:02.218272",
     "exception": false,
     "start_time": "2025-02-27T04:21:02.205992",
     "status": "completed"
    },
    "tags": []
   },
   "source": [
    "**Keras** is an **open-source DL library** that provides a Python interface **for** **neural networks**. Keras acts as an interface for the TensorFlow library. \n",
    "Designed to develop **deep neural networks** fast, it focuses on being user-friendly, modular, and extensible.\n",
    "\n",
    "Using **Keras library's dense layer** module, you can design the feedforward artificial neural networks.  "
   ]
  },
  {
   "attachments": {
    "d2fdf644-4d31-4fc3-8eb5-64b4a57758b3.png": {
     "image/png": "[encoded data removed]"
    }
   },
   "cell_type": "markdown",
   "id": "75d35695",
   "metadata": {
    "papermill": {
     "duration": 0.011891,
     "end_time": "2025-02-27T04:21:02.242514",
     "exception": false,
     "start_time": "2025-02-27T04:21:02.230623",
     "status": "completed"
    },
    "tags": []
   },
   "source": [
    "![image.png](attachment:d2fdf644-4d31-4fc3-8eb5-64b4a57758b3.png)"
   ]
  },
  {
   "cell_type": "code",
   "execution_count": 22,
   "id": "72ac019b",
   "metadata": {
    "execution": {
     "iopub.execute_input": "2025-02-27T04:21:02.269922Z",
     "iopub.status.busy": "2025-02-27T04:21:02.269537Z",
     "iopub.status.idle": "2025-02-27T04:21:02.405617Z",
     "shell.execute_reply": "2025-02-27T04:21:02.404574Z"
    },
    "papermill": {
     "duration": 0.151581,
     "end_time": "2025-02-27T04:21:02.407621",
     "exception": false,
     "start_time": "2025-02-27T04:21:02.256040",
     "status": "completed"
    },
    "tags": []
   },
   "outputs": [
    {
     "name": "stderr",
     "output_type": "stream",
     "text": [
      "/opt/conda/lib/python3.10/site-packages/keras/src/layers/core/dense.py:87: UserWarning: Do not pass an `input_shape`/`input_dim` argument to a layer. When using Sequential models, prefer using an `Input(shape)` object as the first layer in the model instead.\n",
      "  super().__init__(activity_regularizer=activity_regularizer, **kwargs)\n"
     ]
    },
    {
     "data": {
      "text/html": [
       "<pre style=\"white-space:pre;overflow-x:auto;line-height:normal;font-family:Menlo,'DejaVu Sans Mono',consolas,'Courier New',monospace\"><span style=\"font-weight: bold\">Model: \"sequential\"</span>\n",
       "</pre>\n"
      ],
      "text/plain": [
       "\u001b[1mModel: \"sequential\"\u001b[0m\n"
      ]
     },
     "metadata": {},
     "output_type": "display_data"
    },
    {
     "data": {
      "text/html": [
       "<pre style=\"white-space:pre;overflow-x:auto;line-height:normal;font-family:Menlo,'DejaVu Sans Mono',consolas,'Courier New',monospace\">┏━━━━━━━━━━━━━━━━━━━━━━━━━━━━━━━━━┳━━━━━━━━━━━━━━━━━━━━━━━━┳━━━━━━━━━━━━━━━┓\n",
       "┃<span style=\"font-weight: bold\"> Layer (type)                    </span>┃<span style=\"font-weight: bold\"> Output Shape           </span>┃<span style=\"font-weight: bold\">       Param # </span>┃\n",
       "┡━━━━━━━━━━━━━━━━━━━━━━━━━━━━━━━━━╇━━━━━━━━━━━━━━━━━━━━━━━━╇━━━━━━━━━━━━━━━┩\n",
       "│ dense (<span style=\"color: #0087ff; text-decoration-color: #0087ff\">Dense</span>)                   │ (<span style=\"color: #00d7ff; text-decoration-color: #00d7ff\">None</span>, <span style=\"color: #00af00; text-decoration-color: #00af00\">500</span>)            │         <span style=\"color: #00af00; text-decoration-color: #00af00\">3,000</span> │\n",
       "├─────────────────────────────────┼────────────────────────┼───────────────┤\n",
       "│ dense_1 (<span style=\"color: #0087ff; text-decoration-color: #0087ff\">Dense</span>)                 │ (<span style=\"color: #00d7ff; text-decoration-color: #00d7ff\">None</span>, <span style=\"color: #00af00; text-decoration-color: #00af00\">500</span>)            │       <span style=\"color: #00af00; text-decoration-color: #00af00\">250,500</span> │\n",
       "├─────────────────────────────────┼────────────────────────┼───────────────┤\n",
       "│ dense_2 (<span style=\"color: #0087ff; text-decoration-color: #0087ff\">Dense</span>)                 │ (<span style=\"color: #00d7ff; text-decoration-color: #00d7ff\">None</span>, <span style=\"color: #00af00; text-decoration-color: #00af00\">10</span>)             │         <span style=\"color: #00af00; text-decoration-color: #00af00\">5,010</span> │\n",
       "├─────────────────────────────────┼────────────────────────┼───────────────┤\n",
       "│ dense_3 (<span style=\"color: #0087ff; text-decoration-color: #0087ff\">Dense</span>)                 │ (<span style=\"color: #00d7ff; text-decoration-color: #00d7ff\">None</span>, <span style=\"color: #00af00; text-decoration-color: #00af00\">3</span>)              │            <span style=\"color: #00af00; text-decoration-color: #00af00\">33</span> │\n",
       "└─────────────────────────────────┴────────────────────────┴───────────────┘\n",
       "</pre>\n"
      ],
      "text/plain": [
       "┏━━━━━━━━━━━━━━━━━━━━━━━━━━━━━━━━━┳━━━━━━━━━━━━━━━━━━━━━━━━┳━━━━━━━━━━━━━━━┓\n",
       "┃\u001b[1m \u001b[0m\u001b[1mLayer (type)                   \u001b[0m\u001b[1m \u001b[0m┃\u001b[1m \u001b[0m\u001b[1mOutput Shape          \u001b[0m\u001b[1m \u001b[0m┃\u001b[1m \u001b[0m\u001b[1m      Param #\u001b[0m\u001b[1m \u001b[0m┃\n",
       "┡━━━━━━━━━━━━━━━━━━━━━━━━━━━━━━━━━╇━━━━━━━━━━━━━━━━━━━━━━━━╇━━━━━━━━━━━━━━━┩\n",
       "│ dense (\u001b[38;5;33mDense\u001b[0m)                   │ (\u001b[38;5;45mNone\u001b[0m, \u001b[38;5;34m500\u001b[0m)            │         \u001b[38;5;34m3,000\u001b[0m │\n",
       "├─────────────────────────────────┼────────────────────────┼───────────────┤\n",
       "│ dense_1 (\u001b[38;5;33mDense\u001b[0m)                 │ (\u001b[38;5;45mNone\u001b[0m, \u001b[38;5;34m500\u001b[0m)            │       \u001b[38;5;34m250,500\u001b[0m │\n",
       "├─────────────────────────────────┼────────────────────────┼───────────────┤\n",
       "│ dense_2 (\u001b[38;5;33mDense\u001b[0m)                 │ (\u001b[38;5;45mNone\u001b[0m, \u001b[38;5;34m10\u001b[0m)             │         \u001b[38;5;34m5,010\u001b[0m │\n",
       "├─────────────────────────────────┼────────────────────────┼───────────────┤\n",
       "│ dense_3 (\u001b[38;5;33mDense\u001b[0m)                 │ (\u001b[38;5;45mNone\u001b[0m, \u001b[38;5;34m3\u001b[0m)              │            \u001b[38;5;34m33\u001b[0m │\n",
       "└─────────────────────────────────┴────────────────────────┴───────────────┘\n"
      ]
     },
     "metadata": {},
     "output_type": "display_data"
    },
    {
     "data": {
      "text/html": [
       "<pre style=\"white-space:pre;overflow-x:auto;line-height:normal;font-family:Menlo,'DejaVu Sans Mono',consolas,'Courier New',monospace\"><span style=\"font-weight: bold\"> Total params: </span><span style=\"color: #00af00; text-decoration-color: #00af00\">258,543</span> (1009.93 KB)\n",
       "</pre>\n"
      ],
      "text/plain": [
       "\u001b[1m Total params: \u001b[0m\u001b[38;5;34m258,543\u001b[0m (1009.93 KB)\n"
      ]
     },
     "metadata": {},
     "output_type": "display_data"
    },
    {
     "data": {
      "text/html": [
       "<pre style=\"white-space:pre;overflow-x:auto;line-height:normal;font-family:Menlo,'DejaVu Sans Mono',consolas,'Courier New',monospace\"><span style=\"font-weight: bold\"> Trainable params: </span><span style=\"color: #00af00; text-decoration-color: #00af00\">258,543</span> (1009.93 KB)\n",
       "</pre>\n"
      ],
      "text/plain": [
       "\u001b[1m Trainable params: \u001b[0m\u001b[38;5;34m258,543\u001b[0m (1009.93 KB)\n"
      ]
     },
     "metadata": {},
     "output_type": "display_data"
    },
    {
     "data": {
      "text/html": [
       "<pre style=\"white-space:pre;overflow-x:auto;line-height:normal;font-family:Menlo,'DejaVu Sans Mono',consolas,'Courier New',monospace\"><span style=\"font-weight: bold\"> Non-trainable params: </span><span style=\"color: #00af00; text-decoration-color: #00af00\">0</span> (0.00 B)\n",
       "</pre>\n"
      ],
      "text/plain": [
       "\u001b[1m Non-trainable params: \u001b[0m\u001b[38;5;34m0\u001b[0m (0.00 B)\n"
      ]
     },
     "metadata": {},
     "output_type": "display_data"
    }
   ],
   "source": [
    "from tensorflow.keras.models import Sequential\n",
    "from tensorflow.keras.layers import Dense, Input, Activation\n",
    "\n",
    "# Step 8: Design an ANN model using 1 input layer, 2 hidden layers with the numbers of 500 and 10 neurons, relu activation function, \n",
    "# and output layer\n",
    "\n",
    "n_input_variables = X.shape[1] # 5\n",
    "\n",
    "model = Sequential()\n",
    "model.add(Dense(500, input_dim=n_input_variables, activation='relu'))    # Input layer\n",
    "model.add(Dense(500, activation='relu'))    # Hidden layer 1 (dense layer 1)\n",
    "model.add(Dense(10, activation='relu'))    # Hidden layer 2 (dense layer 2)\n",
    "model.add(Dense(3, activation='softmax'))    # Output layer   (dense layer 3)\n",
    "    \n",
    "model.summary()"
   ]
  },
  {
   "cell_type": "markdown",
   "id": "278500f0",
   "metadata": {
    "papermill": {
     "duration": 0.012445,
     "end_time": "2025-02-27T04:21:02.433049",
     "exception": false,
     "start_time": "2025-02-27T04:21:02.420604",
     "status": "completed"
    },
    "tags": []
   },
   "source": [
    "## Train and Scoring the model\n",
    "Keras library provides function for training, evaluation and prediction process. \n",
    "\n",
    "**compile** − Configure the model for training\n",
    "\n",
    "**fit** − Train the model using the training data\n",
    "\n",
    "**evaluate** − Evaluate the model using the test data\n",
    "\n",
    "**predict** − Make prediction for new inputs."
   ]
  },
  {
   "cell_type": "code",
   "execution_count": 23,
   "id": "315fe0c4",
   "metadata": {
    "execution": {
     "iopub.execute_input": "2025-02-27T04:21:02.460140Z",
     "iopub.status.busy": "2025-02-27T04:21:02.459759Z",
     "iopub.status.idle": "2025-02-27T04:21:02.474187Z",
     "shell.execute_reply": "2025-02-27T04:21:02.473129Z"
    },
    "papermill": {
     "duration": 0.031002,
     "end_time": "2025-02-27T04:21:02.476734",
     "exception": false,
     "start_time": "2025-02-27T04:21:02.445732",
     "status": "completed"
    },
    "tags": []
   },
   "outputs": [],
   "source": [
    "model.compile(loss='mean_squared_error',optimizer='adam',metrics=['mse'])"
   ]
  },
  {
   "cell_type": "code",
   "execution_count": 24,
   "id": "01220367",
   "metadata": {
    "execution": {
     "iopub.execute_input": "2025-02-27T04:21:02.504295Z",
     "iopub.status.busy": "2025-02-27T04:21:02.503910Z",
     "iopub.status.idle": "2025-02-27T04:21:21.326335Z",
     "shell.execute_reply": "2025-02-27T04:21:21.325551Z"
    },
    "papermill": {
     "duration": 18.838833,
     "end_time": "2025-02-27T04:21:21.328557",
     "exception": false,
     "start_time": "2025-02-27T04:21:02.489724",
     "status": "completed"
    },
    "tags": []
   },
   "outputs": [
    {
     "name": "stdout",
     "output_type": "stream",
     "text": [
      "Epoch 1/20\n",
      "\u001b[1m185/185\u001b[0m \u001b[32m━━━━━━━━━━━━━━━━━━━━\u001b[0m\u001b[37m\u001b[0m \u001b[1m2s\u001b[0m 6ms/step - loss: 66058.3203 - mse: 66058.3203 - val_loss: 66427.4922 - val_mse: 66427.4922\n",
      "Epoch 2/20\n",
      "\u001b[1m185/185\u001b[0m \u001b[32m━━━━━━━━━━━━━━━━━━━━\u001b[0m\u001b[37m\u001b[0m \u001b[1m1s\u001b[0m 5ms/step - loss: 66058.3203 - mse: 66058.3203 - val_loss: 66427.4922 - val_mse: 66427.4922\n",
      "Epoch 3/20\n",
      "\u001b[1m185/185\u001b[0m \u001b[32m━━━━━━━━━━━━━━━━━━━━\u001b[0m\u001b[37m\u001b[0m \u001b[1m1s\u001b[0m 5ms/step - loss: 66058.3203 - mse: 66058.3203 - val_loss: 66427.4922 - val_mse: 66427.4922\n",
      "Epoch 4/20\n",
      "\u001b[1m185/185\u001b[0m \u001b[32m━━━━━━━━━━━━━━━━━━━━\u001b[0m\u001b[37m\u001b[0m \u001b[1m1s\u001b[0m 5ms/step - loss: 66058.3203 - mse: 66058.3203 - val_loss: 66427.4922 - val_mse: 66427.4922\n",
      "Epoch 5/20\n",
      "\u001b[1m185/185\u001b[0m \u001b[32m━━━━━━━━━━━━━━━━━━━━\u001b[0m\u001b[37m\u001b[0m \u001b[1m1s\u001b[0m 5ms/step - loss: 66058.3203 - mse: 66058.3203 - val_loss: 66427.4922 - val_mse: 66427.4922\n",
      "Epoch 6/20\n",
      "\u001b[1m185/185\u001b[0m \u001b[32m━━━━━━━━━━━━━━━━━━━━\u001b[0m\u001b[37m\u001b[0m \u001b[1m1s\u001b[0m 4ms/step - loss: 66058.3203 - mse: 66058.3203 - val_loss: 66427.4922 - val_mse: 66427.4922\n",
      "Epoch 7/20\n",
      "\u001b[1m185/185\u001b[0m \u001b[32m━━━━━━━━━━━━━━━━━━━━\u001b[0m\u001b[37m\u001b[0m \u001b[1m1s\u001b[0m 5ms/step - loss: 66058.3203 - mse: 66058.3203 - val_loss: 66427.4922 - val_mse: 66427.4922\n",
      "Epoch 8/20\n",
      "\u001b[1m185/185\u001b[0m \u001b[32m━━━━━━━━━━━━━━━━━━━━\u001b[0m\u001b[37m\u001b[0m \u001b[1m1s\u001b[0m 5ms/step - loss: 66058.3203 - mse: 66058.3203 - val_loss: 66427.4922 - val_mse: 66427.4922\n",
      "Epoch 9/20\n",
      "\u001b[1m185/185\u001b[0m \u001b[32m━━━━━━━━━━━━━━━━━━━━\u001b[0m\u001b[37m\u001b[0m \u001b[1m1s\u001b[0m 4ms/step - loss: 66058.3203 - mse: 66058.3203 - val_loss: 66427.4922 - val_mse: 66427.4922\n",
      "Epoch 10/20\n",
      "\u001b[1m185/185\u001b[0m \u001b[32m━━━━━━━━━━━━━━━━━━━━\u001b[0m\u001b[37m\u001b[0m \u001b[1m1s\u001b[0m 5ms/step - loss: 66058.3203 - mse: 66058.3203 - val_loss: 66427.4922 - val_mse: 66427.4922\n",
      "Epoch 11/20\n",
      "\u001b[1m185/185\u001b[0m \u001b[32m━━━━━━━━━━━━━━━━━━━━\u001b[0m\u001b[37m\u001b[0m \u001b[1m1s\u001b[0m 4ms/step - loss: 66058.3203 - mse: 66058.3203 - val_loss: 66427.4922 - val_mse: 66427.4922\n",
      "Epoch 12/20\n",
      "\u001b[1m185/185\u001b[0m \u001b[32m━━━━━━━━━━━━━━━━━━━━\u001b[0m\u001b[37m\u001b[0m \u001b[1m1s\u001b[0m 4ms/step - loss: 66058.3203 - mse: 66058.3203 - val_loss: 66427.4922 - val_mse: 66427.4922\n",
      "Epoch 13/20\n",
      "\u001b[1m185/185\u001b[0m \u001b[32m━━━━━━━━━━━━━━━━━━━━\u001b[0m\u001b[37m\u001b[0m \u001b[1m1s\u001b[0m 4ms/step - loss: 66058.3203 - mse: 66058.3203 - val_loss: 66427.4922 - val_mse: 66427.4922\n",
      "Epoch 14/20\n",
      "\u001b[1m185/185\u001b[0m \u001b[32m━━━━━━━━━━━━━━━━━━━━\u001b[0m\u001b[37m\u001b[0m \u001b[1m1s\u001b[0m 4ms/step - loss: 66058.3203 - mse: 66058.3203 - val_loss: 66427.4922 - val_mse: 66427.4922\n",
      "Epoch 15/20\n",
      "\u001b[1m185/185\u001b[0m \u001b[32m━━━━━━━━━━━━━━━━━━━━\u001b[0m\u001b[37m\u001b[0m \u001b[1m1s\u001b[0m 4ms/step - loss: 66058.3203 - mse: 66058.3203 - val_loss: 66427.4922 - val_mse: 66427.4922\n",
      "Epoch 16/20\n",
      "\u001b[1m185/185\u001b[0m \u001b[32m━━━━━━━━━━━━━━━━━━━━\u001b[0m\u001b[37m\u001b[0m \u001b[1m1s\u001b[0m 4ms/step - loss: 66058.3203 - mse: 66058.3203 - val_loss: 66427.4922 - val_mse: 66427.4922\n",
      "Epoch 17/20\n",
      "\u001b[1m185/185\u001b[0m \u001b[32m━━━━━━━━━━━━━━━━━━━━\u001b[0m\u001b[37m\u001b[0m \u001b[1m1s\u001b[0m 4ms/step - loss: 66058.3203 - mse: 66058.3203 - val_loss: 66427.4922 - val_mse: 66427.4922\n",
      "Epoch 18/20\n",
      "\u001b[1m185/185\u001b[0m \u001b[32m━━━━━━━━━━━━━━━━━━━━\u001b[0m\u001b[37m\u001b[0m \u001b[1m1s\u001b[0m 4ms/step - loss: 66058.3203 - mse: 66058.3203 - val_loss: 66427.4922 - val_mse: 66427.4922\n",
      "Epoch 19/20\n",
      "\u001b[1m185/185\u001b[0m \u001b[32m━━━━━━━━━━━━━━━━━━━━\u001b[0m\u001b[37m\u001b[0m \u001b[1m1s\u001b[0m 4ms/step - loss: 66058.3203 - mse: 66058.3203 - val_loss: 66427.4922 - val_mse: 66427.4922\n",
      "Epoch 20/20\n",
      "\u001b[1m185/185\u001b[0m \u001b[32m━━━━━━━━━━━━━━━━━━━━\u001b[0m\u001b[37m\u001b[0m \u001b[1m1s\u001b[0m 4ms/step - loss: 66058.3203 - mse: 66058.3203 - val_loss: 66427.4922 - val_mse: 66427.4922\n"
     ]
    }
   ],
   "source": [
    "history = model.fit(X_trainscaled,y_train,validation_data=(X_testscaled,y_test),\n",
    "                    verbose=1,epochs=20)"
   ]
  },
  {
   "cell_type": "code",
   "execution_count": 25,
   "id": "9119935c",
   "metadata": {
    "execution": {
     "iopub.execute_input": "2025-02-27T04:21:21.392532Z",
     "iopub.status.busy": "2025-02-27T04:21:21.392127Z",
     "iopub.status.idle": "2025-02-27T04:21:21.681143Z",
     "shell.execute_reply": "2025-02-27T04:21:21.680152Z"
    },
    "papermill": {
     "duration": 0.322687,
     "end_time": "2025-02-27T04:21:21.683216",
     "exception": false,
     "start_time": "2025-02-27T04:21:21.360529",
     "status": "completed"
    },
    "tags": []
   },
   "outputs": [
    {
     "data": {
      "image/png": "[encoded data removed]",
      "text/plain": [
       "<Figure size 640x480 with 1 Axes>"
      ]
     },
     "metadata": {},
     "output_type": "display_data"
    }
   ],
   "source": [
    "import matplotlib.pyplot as pyplot\n",
    "# Visualize the training errors\n",
    "pyplot.title('accuracy / Mean Squared Error')\n",
    "pyplot.plot(history.history['mse'], label='train')\n",
    "pyplot.plot(history.history['val_mse'], label='test')\n",
    "pyplot.legend()\n",
    "pyplot.show()"
   ]
  },
  {
   "cell_type": "code",
   "execution_count": 26,
   "id": "643268aa",
   "metadata": {
    "execution": {
     "iopub.execute_input": "2025-02-27T04:21:21.746880Z",
     "iopub.status.busy": "2025-02-27T04:21:21.746498Z",
     "iopub.status.idle": "2025-02-27T04:21:22.011862Z",
     "shell.execute_reply": "2025-02-27T04:21:22.010817Z"
    },
    "papermill": {
     "duration": 0.299429,
     "end_time": "2025-02-27T04:21:22.013841",
     "exception": false,
     "start_time": "2025-02-27T04:21:21.714412",
     "status": "completed"
    },
    "tags": []
   },
   "outputs": [
    {
     "data": {
      "image/png": "[encoded data removed]",
      "text/plain": [
       "<Figure size 640x480 with 1 Axes>"
      ]
     },
     "metadata": {},
     "output_type": "display_data"
    }
   ],
   "source": [
    "#Visualize the training loss function errors\n",
    "pyplot.title('Loss / Mean Squared Error')\n",
    "pyplot.plot(history.history['loss'], label='train')\n",
    "pyplot.plot(history.history['val_loss'], label='test')\n",
    "pyplot.legend()\n",
    "pyplot.show()\n"
   ]
  },
  {
   "cell_type": "code",
   "execution_count": 27,
   "id": "ee64f3f4",
   "metadata": {
    "execution": {
     "iopub.execute_input": "2025-02-27T04:21:22.077464Z",
     "iopub.status.busy": "2025-02-27T04:21:22.076566Z",
     "iopub.status.idle": "2025-02-27T04:21:22.416062Z",
     "shell.execute_reply": "2025-02-27T04:21:22.415000Z"
    },
    "papermill": {
     "duration": 0.373676,
     "end_time": "2025-02-27T04:21:22.418269",
     "exception": false,
     "start_time": "2025-02-27T04:21:22.044593",
     "status": "completed"
    },
    "tags": []
   },
   "outputs": [
    {
     "data": {
      "text/plain": [
       "<Axes: >"
      ]
     },
     "execution_count": 27,
     "metadata": {},
     "output_type": "execute_result"
    },
    {
     "data": {
      "image/png": "[encoded data removed]",
      "text/plain": [
       "<Figure size 800x600 with 1 Axes>"
      ]
     },
     "metadata": {},
     "output_type": "display_data"
    }
   ],
   "source": [
    "import pandas as pd # data processing\n",
    "\n",
    "losses = pd.DataFrame(model.history.history)\n",
    "losses.plot(figsize=(8,6))"
   ]
  },
  {
   "cell_type": "code",
   "execution_count": 28,
   "id": "3dd4308b",
   "metadata": {
    "execution": {
     "iopub.execute_input": "2025-02-27T04:21:22.483797Z",
     "iopub.status.busy": "2025-02-27T04:21:22.482921Z",
     "iopub.status.idle": "2025-02-27T04:21:22.488526Z",
     "shell.execute_reply": "2025-02-27T04:21:22.487321Z"
    },
    "papermill": {
     "duration": 0.040765,
     "end_time": "2025-02-27T04:21:22.490793",
     "exception": false,
     "start_time": "2025-02-27T04:21:22.450028",
     "status": "completed"
    },
    "tags": []
   },
   "outputs": [
    {
     "name": "stdout",
     "output_type": "stream",
     "text": [
      "Training Accuracy (MSE): 65954.390625\n"
     ]
    }
   ],
   "source": [
    "# Step 9: Display the training accuracy of the ANN model using the training data\n",
    "train_accuracy = history.history['mse'][-1]\n",
    "print(f\"Training Accuracy (MSE): {train_accuracy}\")\n"
   ]
  },
  {
   "cell_type": "code",
   "execution_count": 29,
   "id": "17d9ef53",
   "metadata": {
    "execution": {
     "iopub.execute_input": "2025-02-27T04:21:22.556101Z",
     "iopub.status.busy": "2025-02-27T04:21:22.555200Z",
     "iopub.status.idle": "2025-02-27T04:21:22.726141Z",
     "shell.execute_reply": "2025-02-27T04:21:22.724951Z"
    },
    "papermill": {
     "duration": 0.20559,
     "end_time": "2025-02-27T04:21:22.728312",
     "exception": false,
     "start_time": "2025-02-27T04:21:22.522722",
     "status": "completed"
    },
    "tags": []
   },
   "outputs": [
    {
     "name": "stdout",
     "output_type": "stream",
     "text": [
      "\u001b[1m47/47\u001b[0m \u001b[32m━━━━━━━━━━━━━━━━━━━━\u001b[0m\u001b[37m\u001b[0m \u001b[1m0s\u001b[0m 2ms/step - loss: 67312.3750 - mse: 67312.3750\n",
      "Test Loss: 66427.4921875\n",
      "Test Accuracy (MSE): 66427.4921875\n"
     ]
    }
   ],
   "source": [
    "# Step 10: Display the test accuracy of the ANN model using the test data\n",
    "test_loss, test_accuracy = model.evaluate(X_testscaled, y_test)\n",
    "print(f\"Test Loss: {test_loss}\")\n",
    "print(f\"Test Accuracy (MSE): {test_accuracy}\")"
   ]
  },
  {
   "cell_type": "markdown",
   "id": "b0a1435b",
   "metadata": {
    "papermill": {
     "duration": 0.044462,
     "end_time": "2025-02-27T04:21:22.805784",
     "exception": false,
     "start_time": "2025-02-27T04:21:22.761322",
     "status": "completed"
    },
    "tags": []
   },
   "source": [
    "## Report the performance of the Network over the test dataset "
   ]
  },
  {
   "cell_type": "code",
   "execution_count": 30,
   "id": "f429277c",
   "metadata": {
    "execution": {
     "iopub.execute_input": "2025-02-27T04:21:22.872989Z",
     "iopub.status.busy": "2025-02-27T04:21:22.872212Z",
     "iopub.status.idle": "2025-02-27T04:21:22.906644Z",
     "shell.execute_reply": "2025-02-27T04:21:22.904083Z"
    },
    "papermill": {
     "duration": 0.077778,
     "end_time": "2025-02-27T04:21:22.916579",
     "exception": false,
     "start_time": "2025-02-27T04:21:22.838801",
     "status": "completed"
    },
    "tags": []
   },
   "outputs": [
    {
     "name": "stdout",
     "output_type": "stream",
     "text": [
      "MAE: 6.587223275855666\n",
      "MSE: 219.16095148296435\n",
      "RMSE: 14.804085634815962\n",
      "Variance score: 0.9365704153547869\n",
      "Shape of y_test: (1477, 1)\n",
      "Shape of y_pred: (1477,)\n"
     ]
    }
   ],
   "source": [
    "from sklearn import metrics\n",
    "import matplotlib.pyplot as plt\n",
    "y_pred = net.predict(X_test)  # Predict on the test set\n",
    "print('MAE:', metrics.mean_absolute_error(y_test, y_pred))\n",
    "print('MSE:', metrics.mean_squared_error(y_test, y_pred))\n",
    "print('RMSE:', np.sqrt(metrics.mean_squared_error(y_test, y_pred)))\n",
    "print('Variance score:', metrics.explained_variance_score(y_test, y_pred))\n",
    "\n",
    "print(\"Shape of y_test:\", y_test.shape)\n",
    "print(\"Shape of y_pred:\", y_pred.shape)\n",
    "\n",
    "\n",
    "\n",
    "\n"
   ]
  },
  {
   "cell_type": "markdown",
   "id": "cff5039d",
   "metadata": {
    "papermill": {
     "duration": 0.032289,
     "end_time": "2025-02-27T04:21:23.051653",
     "exception": false,
     "start_time": "2025-02-27T04:21:23.019364",
     "status": "completed"
    },
    "tags": []
   },
   "source": [
    "## Using the trained model in the production environment"
   ]
  },
  {
   "cell_type": "code",
   "execution_count": 31,
   "id": "62e159ad",
   "metadata": {
    "execution": {
     "iopub.execute_input": "2025-02-27T04:21:23.119059Z",
     "iopub.status.busy": "2025-02-27T04:21:23.118686Z",
     "iopub.status.idle": "2025-02-27T04:21:23.779726Z",
     "shell.execute_reply": "2025-02-27T04:21:23.778601Z"
    },
    "papermill": {
     "duration": 0.697719,
     "end_time": "2025-02-27T04:21:23.782547",
     "exception": false,
     "start_time": "2025-02-27T04:21:23.084828",
     "status": "completed"
    },
    "tags": []
   },
   "outputs": [
    {
     "data": {
      "application/vnd.jupyter.widget-view+json": {
       "model_id": "73f93e5d9d914106bd3c041328dd34fd",
       "version_major": 2,
       "version_minor": 0
      },
      "text/plain": [
       "interactive(children=(FloatSlider(value=3.0, description='Engine Size      :', max=8.1, min=3.0), FloatSlider(…"
      ]
     },
     "metadata": {},
     "output_type": "display_data"
    }
   ],
   "source": [
    "import ipywidgets as widgets\n",
    "from ipywidgets import interact\n",
    "import numpy as np\n",
    "# Using interact() as a decorator\n",
    "@interact(\n",
    "    # Specifying the handler for the arguments in the function predict\n",
    "    x1 = widgets.FloatSlider(min=3, max=8.1, step=0.1, value=3, description=\"Engine Size      :\"),\n",
    "    x2 = widgets.FloatSlider(min=3, max=16, step=1, value=3, description=\"Cylinders:\"),\n",
    "    x3 = widgets.FloatSlider(min=4, max=31, step=0.1, value=4, description=\"Fuel Con City:\"),\n",
    "    x4 = widgets.FloatSlider(min=4, max=21, step=0.1, value=4, description=\"Fuel Con Hwy\"),\n",
    "    x5 = widgets.FloatSlider(min=4, max=26.5, step=0.1, value=4, description=\"Fuel Con (km):\")\n",
    ")\n",
    "\n",
    "def predict(x1, x2, x3, x4, x5):\n",
    "   \n",
    "    # present new data\n",
    "    new_input = np.array([x1, x2, x3, x4, x5])\n",
    "    #Keras predict function expect the input data shape of (None, Number of the input variables)\n",
    "    new_input = new_input.reshape(1, -1)  # Reshape to dimension from (1,) to (1, 5)\n",
    "    # make a prediction\n",
    "    yhat = model.predict([new_input])\n",
    "    # summarize prediction\n",
    "    print('If inputs are [%1.1f, %1.1f,%1.1f, %1.1f,%1.1f] predicted CO2 is : %d' % (x1,x2,x3,x4,x5,yhat))"
   ]
  },
  {
   "cell_type": "markdown",
   "id": "00079256",
   "metadata": {
    "papermill": {
     "duration": 0.032105,
     "end_time": "2025-02-27T04:21:23.859733",
     "exception": false,
     "start_time": "2025-02-27T04:21:23.827628",
     "status": "completed"
    },
    "tags": []
   },
   "source": [
    "## Model Structure\n",
    "Keras provides few methods to get the model information like layers, input data and output data. \n",
    "\n",
    "model.layers − Returns all the layers of the model as list.\n",
    "\n",
    "model.inputs − Returns all the input tensors of the model as list.\n",
    "\n",
    "model.outputs − Returns all the output tensors of the model as list.\n",
    "model.get_weights − Returns all the weights as NumPy arrays.\n",
    "model.set_weights(weight_numpy_array) − Set the weights of the model."
   ]
  },
  {
   "cell_type": "code",
   "execution_count": 32,
   "id": "d2f47a47",
   "metadata": {
    "execution": {
     "iopub.execute_input": "2025-02-27T04:21:23.933249Z",
     "iopub.status.busy": "2025-02-27T04:21:23.932267Z",
     "iopub.status.idle": "2025-02-27T04:21:23.939346Z",
     "shell.execute_reply": "2025-02-27T04:21:23.938284Z"
    },
    "papermill": {
     "duration": 0.047254,
     "end_time": "2025-02-27T04:21:23.942302",
     "exception": false,
     "start_time": "2025-02-27T04:21:23.895048",
     "status": "completed"
    },
    "tags": []
   },
   "outputs": [
    {
     "name": "stdout",
     "output_type": "stream",
     "text": [
      "[<Dense name=dense, built=True>, <Dense name=dense_1, built=True>, <Dense name=dense_2, built=True>, <Dense name=dense_3, built=True>]\n",
      "[<KerasTensor shape=(None, 5), dtype=float32, sparse=None, name=keras_tensor>]\n",
      "[<KerasTensor shape=(None, 3), dtype=float32, sparse=False, name=keras_tensor_10>]\n"
     ]
    }
   ],
   "source": [
    "layers = model.layers \n",
    "print(layers) \n",
    "\n",
    "inputs = model.inputs \n",
    "print(inputs) \n",
    "\n",
    "outputs = model.outputs \n",
    "print(outputs) "
   ]
  },
  {
   "cell_type": "markdown",
   "id": "83273f6d",
   "metadata": {
    "papermill": {
     "duration": 0.032435,
     "end_time": "2025-02-27T04:21:24.016193",
     "exception": false,
     "start_time": "2025-02-27T04:21:23.983758",
     "status": "completed"
    },
    "tags": []
   },
   "source": [
    "**model.get_weights()** − Returns all the weights as a list object."
   ]
  },
  {
   "cell_type": "code",
   "execution_count": 33,
   "id": "a7055145",
   "metadata": {
    "execution": {
     "iopub.execute_input": "2025-02-27T04:21:24.083175Z",
     "iopub.status.busy": "2025-02-27T04:21:24.082677Z",
     "iopub.status.idle": "2025-02-27T04:21:24.113231Z",
     "shell.execute_reply": "2025-02-27T04:21:24.112104Z"
    },
    "papermill": {
     "duration": 0.068218,
     "end_time": "2025-02-27T04:21:24.116876",
     "exception": false,
     "start_time": "2025-02-27T04:21:24.048658",
     "status": "completed"
    },
    "tags": []
   },
   "outputs": [
    {
     "name": "stdout",
     "output_type": "stream",
     "text": [
      "[array([[-0.03393761,  0.00286862, -0.10075288, ..., -0.06812543,\n",
      "        -0.0035827 , -0.03927949],\n",
      "       [-0.08774026, -0.03626197,  0.09737302, ...,  0.03100601,\n",
      "        -0.07992745, -0.09751282],\n",
      "       [-0.06030788,  0.03318784,  0.0001549 , ...,  0.01426227,\n",
      "        -0.02273367,  0.09932773],\n",
      "       [-0.00521797, -0.03231176,  0.08386055, ..., -0.08103684,\n",
      "        -0.01172996,  0.10532551],\n",
      "       [ 0.07934786, -0.00698625,  0.08945593, ...,  0.09944409,\n",
      "         0.09660389,  0.02266077]], dtype=float32), array([ 4.38216561e-03,  6.43130112e-03, -2.56318785e-03,  7.08705513e-03,\n",
      "       -1.81730650e-03, -4.26637148e-03,  9.45047103e-03, -8.49427539e-04,\n",
      "       -3.57245933e-03,  7.80165254e-04, -4.15948743e-04,  4.39638126e-04,\n",
      "       -2.50157551e-03, -2.35143001e-03, -2.52702227e-03, -2.48005195e-03,\n",
      "       -6.62244391e-03,  2.52739340e-03, -7.33239343e-03,  7.92437512e-03,\n",
      "        8.96528549e-03,  8.01386050e-05,  1.12485897e-03, -7.27147516e-03,\n",
      "       -8.73530004e-03,  4.21942503e-04, -2.83458619e-03, -4.97450726e-03,\n",
      "       -3.35185346e-03,  7.76213128e-03, -7.07111834e-03, -6.80139335e-03,\n",
      "       -2.68957741e-03, -5.99495880e-03, -3.23817693e-03, -2.71466142e-03,\n",
      "        1.12202084e-02, -7.14390725e-03, -5.12988539e-04, -2.95499014e-03,\n",
      "       -1.77394133e-03, -5.91594074e-03, -6.81191916e-03,  5.38104167e-03,\n",
      "       -2.78327754e-03,  5.76441130e-03, -7.62212556e-04, -8.05100147e-03,\n",
      "       -1.06036440e-02, -5.63693279e-03,  2.80450075e-03, -7.56229647e-03,\n",
      "       -6.23895880e-03,  3.57520708e-04,  7.42251333e-03, -2.82779831e-04,\n",
      "        5.13862493e-03, -4.24369937e-03,  1.64733836e-04, -8.74896348e-03,\n",
      "       -8.10228940e-03,  8.78824480e-03, -4.56296001e-03, -8.19438545e-04,\n",
      "        5.74072218e-03,  6.99848868e-03,  5.76265901e-03, -4.56631789e-03,\n",
      "       -5.15234750e-03,  4.02060943e-03, -4.06667031e-03, -8.16808920e-03,\n",
      "       -7.18138553e-03,  1.13556283e-02,  2.05250038e-03, -8.92390683e-03,\n",
      "       -5.39429625e-03, -3.96905188e-03,  5.08748461e-03,  6.68371981e-03,\n",
      "       -3.10904084e-04, -6.40337297e-04,  3.31016141e-03, -6.37291139e-03,\n",
      "       -2.41689943e-03, -8.24031420e-04, -7.63079012e-03, -4.25036764e-03,\n",
      "        1.11310733e-02, -4.61992808e-03,  7.04338402e-03,  1.16803474e-03,\n",
      "       -3.46177048e-03, -1.74700003e-03,  2.46902462e-03, -3.56072001e-03,\n",
      "        3.40639427e-03,  6.99857110e-03,  2.49419897e-03,  6.94731437e-03,\n",
      "       -5.29733812e-03, -4.56544431e-03, -4.95944824e-03, -9.82606038e-03,\n",
      "       -7.56627182e-04, -5.71953040e-03, -9.33508389e-03, -2.23829597e-03,\n",
      "       -3.80052952e-03,  3.13759595e-03, -3.90652101e-03, -4.92788712e-03,\n",
      "       -1.36301038e-03, -6.54557673e-03,  6.82236673e-03, -9.68038104e-03,\n",
      "        6.81489659e-03,  4.35328390e-03, -8.14989489e-03,  6.36214996e-03,\n",
      "        8.33002478e-03, -8.38884991e-03, -4.98208776e-03, -1.65189337e-03,\n",
      "       -3.45384004e-03, -4.05319035e-03, -4.59397398e-03,  3.04135930e-04,\n",
      "       -3.14143766e-03, -4.50181728e-03, -6.39359234e-03,  3.45085678e-03,\n",
      "        5.66275837e-03, -8.09589028e-03, -4.08415031e-03,  2.10158364e-03,\n",
      "       -8.26912653e-03,  2.81046494e-03, -1.23873865e-02, -3.40729457e-04,\n",
      "        2.99792201e-03, -2.31861789e-03,  4.51281061e-03, -7.84811750e-03,\n",
      "        7.65219936e-03,  5.99889550e-03,  7.08028814e-03, -7.63159804e-03,\n",
      "       -4.28041705e-04,  3.62255960e-03, -2.58202315e-03, -5.82153117e-03,\n",
      "        6.71103410e-03, -3.05114593e-03,  7.47606950e-03, -8.18572566e-03,\n",
      "       -3.57830129e-03, -4.79698461e-03, -6.92184432e-04, -1.86488219e-03,\n",
      "       -1.20094502e-02, -6.70092786e-03,  5.56738768e-03,  1.54581910e-04,\n",
      "       -7.73377623e-03, -6.17205212e-03, -7.80225638e-03, -1.35381706e-02,\n",
      "       -4.09382815e-03, -3.57490685e-03,  4.64450615e-03, -1.00376373e-02,\n",
      "       -3.14555084e-03, -9.43816081e-03,  6.13079919e-03, -5.14948415e-03,\n",
      "       -6.45218324e-03, -8.53440166e-03, -3.42039531e-03, -7.43569992e-03,\n",
      "        6.55998476e-03, -6.55837357e-03,  7.98726082e-03,  1.01835746e-03,\n",
      "       -1.62622181e-03,  5.37111610e-03, -9.43063665e-03,  3.98472650e-03,\n",
      "       -5.29252458e-03,  5.09615196e-03, -5.30947605e-03,  6.88192388e-03,\n",
      "       -4.81277378e-03,  1.10686128e-03,  8.07637931e-04, -5.75851991e-05,\n",
      "       -2.99113267e-03,  1.59144739e-03, -6.32609893e-03,  2.85285688e-03,\n",
      "       -8.98098014e-03,  1.28748436e-02,  4.16761497e-03,  7.86675140e-03,\n",
      "       -7.63918506e-03,  3.77841131e-03,  2.08268780e-03, -1.76570774e-03,\n",
      "       -1.49068516e-03, -8.79074167e-03,  5.10586705e-03,  8.24906118e-03,\n",
      "        1.25286612e-03, -4.97654220e-03, -6.04744768e-03, -2.55676080e-03,\n",
      "       -7.72143202e-03, -2.68817367e-03,  7.89173413e-03, -2.91137397e-03,\n",
      "        5.07588265e-03, -8.69494770e-03,  1.69431721e-03, -4.91954666e-03,\n",
      "        5.54672966e-04,  5.30764833e-03, -3.13804508e-03,  4.03393533e-05,\n",
      "       -4.44869511e-03, -2.90490943e-03, -1.96989604e-05, -9.30260227e-04,\n",
      "       -2.94409692e-03,  5.86807588e-03,  5.25645260e-03,  5.35485568e-03,\n",
      "        1.18307781e-03, -4.96167690e-03, -1.92861108e-03,  6.51445612e-03,\n",
      "        3.90949380e-03, -2.13468028e-03, -3.43587296e-03, -7.90403131e-03,\n",
      "       -9.93656067e-05, -7.63263507e-03, -6.87201228e-03,  9.99725237e-03,\n",
      "        7.72530865e-03, -7.96639454e-03,  1.97736127e-03, -1.49590161e-03,\n",
      "       -5.40757971e-03,  9.68843233e-03,  8.37574992e-03,  5.05537214e-03,\n",
      "       -3.07776337e-03,  4.52776300e-03, -8.86468217e-03,  3.67899379e-03,\n",
      "       -4.89240512e-03,  4.41100402e-03,  5.24981739e-03,  2.52119312e-03,\n",
      "       -1.13794685e-03,  3.39407800e-03,  6.12858636e-03, -2.95357266e-03,\n",
      "       -1.20002283e-02,  2.82509020e-04,  2.19119107e-03, -7.74844317e-03,\n",
      "       -6.37804111e-03, -5.62468916e-03, -1.17063820e-02,  6.15071924e-03,\n",
      "       -5.59133478e-03,  2.44592479e-03,  3.70314647e-03,  4.64029098e-03,\n",
      "       -6.92067528e-03, -3.27863637e-03, -5.17667038e-03,  7.30498461e-03,\n",
      "        2.85195839e-03, -7.18946895e-03, -7.73587590e-03,  7.00264718e-05,\n",
      "       -3.11949686e-03,  2.27666856e-03, -3.84659786e-03,  2.37592147e-03,\n",
      "       -1.37301744e-03, -6.63946848e-03, -5.51638613e-03, -6.93993596e-03,\n",
      "        3.96846794e-03,  7.20638875e-03,  2.11134041e-03,  4.57775174e-03,\n",
      "       -6.38709683e-03,  1.61667133e-03,  5.30849444e-03,  6.00243220e-03,\n",
      "        6.61918567e-03,  3.06699565e-03, -4.55269683e-03, -4.42741672e-03,\n",
      "       -7.32403575e-03, -9.71705467e-03, -4.86980472e-03,  9.95688970e-05,\n",
      "        6.84453174e-03, -3.91554786e-03, -2.13737460e-03,  3.97219695e-03,\n",
      "        1.66139635e-03, -6.16249815e-03, -2.40954617e-03, -8.17899534e-04,\n",
      "        2.44777207e-03,  8.53495207e-03, -3.34649440e-03, -1.06864860e-02,\n",
      "        4.93986206e-03, -6.40638079e-03,  1.19657849e-03, -8.20801407e-03,\n",
      "       -1.65745092e-04,  7.40018953e-03,  4.50263359e-03, -3.20073636e-03,\n",
      "       -1.14538067e-04,  9.58611537e-03, -5.93207544e-03,  7.88620487e-03,\n",
      "       -4.78791492e-03, -7.29191070e-03,  7.28317443e-03,  1.63097226e-03,\n",
      "        2.49698176e-03, -7.78489572e-04,  5.91690047e-03, -4.02166182e-03,\n",
      "        1.63529138e-03,  8.20611883e-03, -7.92489666e-03,  5.58330258e-03,\n",
      "       -7.48462416e-03, -5.45286853e-03,  3.79258953e-03, -3.54878925e-04,\n",
      "       -1.33794372e-03, -5.79952542e-03,  5.05053112e-03,  9.30176675e-03,\n",
      "       -5.54785086e-03,  3.48133646e-04,  6.16526091e-03, -8.10107868e-03,\n",
      "       -3.60146211e-03,  3.05920350e-03, -5.18575031e-03, -2.79777008e-03,\n",
      "       -5.58412261e-03,  5.21332165e-03, -1.99702612e-04, -1.31793227e-02,\n",
      "        2.55757733e-03, -8.82028975e-03, -8.93258024e-03, -5.77991363e-03,\n",
      "        8.82154424e-03,  2.08327360e-03, -8.95293243e-03,  3.16557428e-03,\n",
      "       -6.32548099e-03, -6.25023735e-04,  4.52446612e-03, -4.26999945e-03,\n",
      "       -7.05434242e-03,  2.17312621e-03,  8.46843584e-04,  3.80802318e-03,\n",
      "       -3.22042243e-03,  6.56083180e-03, -7.41548929e-03, -6.27919100e-03,\n",
      "        1.75641663e-03, -3.62548698e-03,  6.56473404e-03,  1.03459519e-03,\n",
      "       -3.25199333e-03,  2.02161656e-03, -8.37487727e-03, -2.02154112e-03,\n",
      "        3.58342263e-03, -1.56858575e-03, -8.95291567e-03,  1.30472984e-02,\n",
      "       -7.27852620e-03, -4.60188417e-03, -7.70488195e-03, -3.24677071e-03,\n",
      "       -8.63287505e-03,  5.99924801e-03, -1.03593981e-02, -1.11262947e-02,\n",
      "        6.35429146e-03,  5.41208778e-03, -8.90668109e-03,  6.90888008e-03,\n",
      "        7.04512512e-03, -7.63868727e-03,  6.60897465e-03,  4.15807124e-03,\n",
      "        4.79949731e-03,  4.05571423e-03, -4.94665001e-03, -8.27703718e-03,\n",
      "        3.19780828e-03,  2.24524061e-03, -6.00749743e-04,  7.39095174e-03,\n",
      "       -8.92429240e-03, -7.46413926e-03,  1.17391639e-03, -4.00925614e-03,\n",
      "       -7.13279657e-03, -2.03810562e-03, -1.99737563e-03, -4.61394060e-03,\n",
      "       -4.25962359e-03,  5.11689018e-03,  3.52422427e-03,  5.15170442e-03,\n",
      "        3.35735804e-03,  3.99853889e-04, -9.33157280e-03,  1.96525641e-03,\n",
      "       -6.44433498e-03,  4.23590885e-03, -1.87891081e-03, -4.53613233e-03,\n",
      "       -4.51276544e-03,  1.42271130e-03,  8.21056124e-03,  5.15472936e-03,\n",
      "       -7.42657902e-03,  2.82204454e-03, -6.94776094e-03,  2.82231276e-03,\n",
      "        7.41714053e-03, -8.30750633e-03, -7.67514855e-03, -5.89398202e-03,\n",
      "       -5.12016751e-03,  2.60237750e-04, -6.05429150e-03,  5.05255163e-03,\n",
      "        3.61846352e-04,  4.09657555e-03, -6.76364591e-03,  5.76661248e-03,\n",
      "       -1.27969002e-02, -8.44965223e-04,  7.50038028e-03,  5.27277822e-03,\n",
      "        3.25765251e-03,  4.59227851e-03,  6.80009369e-03, -3.95104336e-03,\n",
      "       -6.46418985e-03,  3.63982213e-03,  6.35958556e-03, -2.57837866e-03,\n",
      "        6.79405290e-04,  7.82210380e-03, -1.14077777e-02,  4.12251009e-03,\n",
      "        2.41170009e-03, -7.43599143e-04,  2.70248647e-03, -6.73842244e-03,\n",
      "       -1.52827997e-03,  4.25489765e-04,  1.86275982e-03, -8.27746373e-03,\n",
      "       -3.42681364e-04,  3.09167942e-03, -8.19398649e-03,  1.38093764e-03,\n",
      "        4.80777537e-03, -5.56652667e-03,  2.23112083e-03,  2.16509192e-03,\n",
      "       -2.00856873e-03,  1.82255788e-03,  2.61347555e-03,  4.68020607e-03],\n",
      "      dtype=float32), array([[ 0.00524399, -0.01385377,  0.06784206, ..., -0.04906497,\n",
      "         0.07323313,  0.01472179],\n",
      "       [ 0.07343428, -0.06278603, -0.01351216, ...,  0.07565084,\n",
      "        -0.06295686,  0.02274238],\n",
      "       [-0.04925921, -0.05512794, -0.06739162, ...,  0.01859039,\n",
      "        -0.00839456,  0.06452975],\n",
      "       ...,\n",
      "       [ 0.06906553,  0.02073355,  0.00141745, ...,  0.05017216,\n",
      "        -0.0545829 , -0.04456552],\n",
      "       [-0.01388549, -0.04298035, -0.05748188, ...,  0.02767405,\n",
      "         0.01876073, -0.03518182],\n",
      "       [-0.03477789,  0.03813798,  0.06717002, ..., -0.00847809,\n",
      "        -0.02162522, -0.01429038]], dtype=float32), array([ 2.33524642e-03, -6.11817697e-03, -4.19897679e-03, -5.50866779e-03,\n",
      "       -1.01224554e-03, -6.44670893e-03, -6.40576798e-03, -7.76373688e-03,\n",
      "       -3.29248002e-03, -3.91684892e-03, -5.91168832e-03,  3.08601372e-03,\n",
      "       -7.18679326e-03, -8.35199666e-04,  2.69361492e-03, -5.15726511e-04,\n",
      "       -6.63974788e-03, -6.96886657e-03, -5.05989743e-03,  3.09345103e-03,\n",
      "        1.37870331e-04, -2.97999009e-03,  0.00000000e+00,  2.81893136e-03,\n",
      "        4.19442635e-03, -1.84351718e-03,  0.00000000e+00,  1.06193020e-03,\n",
      "       -6.62849005e-03,  5.62806614e-03, -8.67273100e-03, -7.65296863e-03,\n",
      "        7.71046383e-03,  8.68698861e-03,  1.22596731e-03, -1.06940779e-03,\n",
      "        8.19119252e-03,  8.31178296e-03,  5.42297354e-03, -4.43377951e-03,\n",
      "        1.31425327e-02, -1.32718356e-03,  1.44242519e-03,  9.20971949e-03,\n",
      "        4.58311336e-03,  4.23829723e-03,  6.79857703e-03, -2.17401306e-03,\n",
      "       -2.75037042e-03,  3.30122793e-06, -2.20203493e-03,  6.66390592e-03,\n",
      "       -1.16695575e-02, -5.89075731e-03, -2.69999541e-03, -3.59606859e-03,\n",
      "       -4.45423974e-03,  0.00000000e+00, -1.45769084e-03, -2.22986564e-03,\n",
      "        4.14258335e-03,  0.00000000e+00, -2.43989029e-03,  2.70680082e-03,\n",
      "        1.43040763e-02, -3.00758239e-03, -6.98049786e-03, -3.67690972e-03,\n",
      "       -3.87198851e-03,  1.60649384e-03, -1.01638294e-03, -7.81663321e-03,\n",
      "       -2.18496635e-03,  4.26759990e-03,  3.56098637e-03,  1.10344449e-03,\n",
      "        6.29454199e-03,  4.75094514e-03,  3.56449699e-03, -1.44698820e-03,\n",
      "        6.34808466e-03,  3.37221101e-03, -5.67174191e-03, -5.78304939e-03,\n",
      "       -4.39215824e-03,  5.03882999e-03,  4.80441004e-03, -3.22714914e-05,\n",
      "       -4.54124203e-03, -6.43714191e-03,  5.28859813e-03,  7.15140579e-03,\n",
      "       -8.74400325e-03,  6.97107171e-04, -5.78350248e-03, -8.74317437e-03,\n",
      "       -4.94475476e-03,  4.55259718e-03,  1.06949103e-03,  4.40149568e-03,\n",
      "       -5.33746229e-03, -7.40798330e-03, -3.01014329e-03, -7.65192509e-03,\n",
      "        1.12581439e-02,  1.25572400e-03, -3.03033623e-03,  3.03614559e-03,\n",
      "       -7.95500993e-04,  1.62447488e-03, -5.03529795e-03, -2.56595737e-03,\n",
      "        6.75789220e-03, -3.13221524e-03, -8.67075054e-04,  4.97887423e-03,\n",
      "       -4.46126983e-03,  6.53491402e-03, -4.74574417e-03,  2.18333979e-03,\n",
      "       -1.87796040e-03, -2.37322785e-03, -1.04436034e-03,  6.24998473e-04,\n",
      "       -9.24551953e-03, -3.65282851e-03, -3.67307593e-03, -2.92921695e-03,\n",
      "        3.22043314e-03,  7.72316940e-04, -6.52400497e-03, -2.87986314e-03,\n",
      "        6.10834220e-03, -7.00542703e-03,  2.13872478e-03, -2.32312060e-03,\n",
      "        8.40103813e-03, -4.14776616e-03, -7.56483478e-03, -5.82921552e-03,\n",
      "       -7.79270567e-03,  1.03490418e-02,  5.46204345e-03, -1.11454108e-03,\n",
      "       -8.76309443e-03, -4.95970540e-04, -4.80707875e-03,  9.07994434e-03,\n",
      "       -5.89298969e-03, -3.05668195e-03,  8.90312658e-04, -7.75823509e-03,\n",
      "        1.63896033e-03,  9.74826235e-03,  1.81079039e-03, -2.67168577e-03,\n",
      "        0.00000000e+00, -2.70512607e-03, -3.96351283e-03,  4.70044045e-03,\n",
      "        2.09574797e-03, -5.08755120e-03, -2.46313424e-03, -7.49501865e-03,\n",
      "       -7.78771611e-03, -8.44216440e-03,  2.17696629e-03, -1.02570364e-02,\n",
      "       -8.68612342e-03, -1.22645348e-02, -5.51681314e-03,  5.77322487e-03,\n",
      "        0.00000000e+00, -4.72036330e-03, -6.94546709e-03, -1.28769758e-03,\n",
      "       -3.65731353e-03,  6.75419345e-03,  3.63868021e-04,  9.22781788e-03,\n",
      "       -4.86194296e-03,  7.58016435e-03, -8.04365333e-03,  1.66575564e-03,\n",
      "        0.00000000e+00, -8.00302438e-03, -1.23349577e-03, -8.44546687e-03,\n",
      "        2.18025362e-03,  5.65916579e-03, -3.26989312e-03,  6.06220588e-03,\n",
      "       -6.93892874e-03, -8.51124804e-03, -2.70987581e-03,  5.43508399e-03,\n",
      "       -5.96260361e-04,  2.07521394e-03,  1.61883689e-03, -4.56837099e-03,\n",
      "       -2.07031029e-03,  3.85255739e-03, -1.75362173e-03,  7.25508668e-03,\n",
      "       -6.92150043e-03, -3.68593028e-03,  5.28028002e-03, -6.46573771e-03,\n",
      "       -1.36194914e-03,  3.29162227e-03,  1.09858491e-04,  1.08307917e-02,\n",
      "       -7.77960801e-03,  4.96987998e-03, -5.90920728e-03, -6.08414225e-03,\n",
      "        1.33335730e-03, -3.76167870e-03, -7.63842044e-03,  4.83437767e-03,\n",
      "       -1.27970299e-03, -2.90304329e-03,  7.16338120e-03, -1.96786388e-03,\n",
      "       -4.48560063e-03, -3.41692357e-03, -5.77994110e-03,  9.65515245e-03,\n",
      "       -2.84901564e-03,  3.02321604e-03,  7.58680841e-03, -4.24726401e-03,\n",
      "        1.11485291e-02, -7.49517884e-03, -3.34522733e-03, -5.29970229e-03,\n",
      "        4.10227943e-03, -6.04005065e-03,  4.69022663e-03, -4.77173075e-04,\n",
      "       -4.21345886e-03,  2.76203523e-03,  9.72074122e-05, -4.30085836e-03,\n",
      "       -5.58204111e-03, -6.13282714e-03, -6.91060675e-03, -1.64910464e-03,\n",
      "        1.03591224e-02, -7.36818276e-03,  1.18740415e-02,  5.12113154e-04,\n",
      "       -3.00288433e-04, -5.49234683e-03,  3.31248995e-03,  1.49229786e-03,\n",
      "       -1.43403129e-03, -4.78603784e-03, -4.35133837e-03,  9.65107884e-03,\n",
      "        3.57370533e-04,  6.39853533e-04, -5.66633558e-03, -3.02068237e-03,\n",
      "       -8.32783990e-03, -5.79520501e-03,  2.80937902e-03, -5.90922125e-03,\n",
      "        1.81645562e-03, -2.16078898e-03, -3.74627695e-03,  3.75288073e-03,\n",
      "       -5.83017943e-03,  7.27182196e-04,  8.32139235e-03, -6.51776139e-03,\n",
      "        0.00000000e+00, -4.55463072e-03, -9.68216627e-04, -5.19823842e-03,\n",
      "        1.24786468e-02,  6.05673296e-03, -5.27992006e-03, -1.81367286e-04,\n",
      "        1.50252099e-03, -5.30939596e-03, -9.95455962e-03, -5.65843238e-03,\n",
      "        3.63459648e-03,  1.40945027e-02, -7.92801939e-03, -5.97016420e-03,\n",
      "        6.33711880e-03, -6.15618378e-03,  2.32235459e-03, -3.90911056e-03,\n",
      "        9.01397038e-03, -6.25040755e-03,  5.33771096e-03, -6.23108679e-03,\n",
      "        1.96108548e-03, -1.59454969e-04, -5.89197502e-04, -8.62428453e-03,\n",
      "       -8.09771765e-04, -6.08939491e-03, -4.21393104e-03,  3.52840358e-03,\n",
      "        3.55179625e-04, -9.51481704e-03,  1.44222553e-03, -4.43037134e-04,\n",
      "        6.17144350e-03, -5.63489972e-04, -1.57944579e-03, -3.70519003e-03,\n",
      "        5.49923163e-03, -5.90551645e-03, -5.86013636e-03, -5.59479697e-04,\n",
      "       -1.12854486e-05, -9.59532894e-03,  4.07600403e-03, -5.97470859e-03,\n",
      "       -5.96728874e-03,  0.00000000e+00, -8.56955256e-03,  1.02053015e-02,\n",
      "       -5.58856362e-03,  1.29262516e-02,  2.80601624e-03,  8.37162603e-03,\n",
      "        2.84702139e-04,  6.77175354e-04,  2.86839670e-03, -1.97124295e-03,\n",
      "       -2.19836156e-03,  5.68385702e-03,  6.28196262e-03, -3.19419336e-03,\n",
      "       -4.52050846e-03, -8.62619653e-03, -5.68191847e-03, -5.70071209e-03,\n",
      "       -6.74170628e-03, -4.62817214e-03,  5.64267393e-03, -6.00202708e-03,\n",
      "        1.26463939e-02, -5.00585092e-03, -5.38582960e-03, -4.39463882e-03,\n",
      "        1.04920585e-02, -5.68010751e-03, -5.00763347e-03, -5.72336139e-03,\n",
      "       -6.01356849e-03,  1.10804690e-02, -8.65123607e-03,  3.63670103e-03,\n",
      "       -4.00634235e-05, -7.05585955e-03,  1.06528234e-02, -5.65671083e-03,\n",
      "        5.04411350e-04, -7.31512066e-03, -5.91631047e-03, -3.41420970e-03,\n",
      "        7.08281249e-03,  7.42203137e-03, -9.86552797e-03,  0.00000000e+00,\n",
      "       -8.27496313e-03, -5.65275038e-03,  6.66342024e-03,  6.66775368e-03,\n",
      "        7.90386274e-03,  1.01292962e-02, -3.27221816e-03, -1.19361281e-03,\n",
      "       -5.98821742e-03, -4.08726890e-04,  1.25982370e-02, -5.82926488e-03,\n",
      "       -5.89027070e-03,  4.42994758e-03,  1.19122968e-03,  1.94991252e-03,\n",
      "       -2.97652418e-03, -7.93094095e-03, -7.02267187e-03,  4.37894324e-03,\n",
      "       -5.78878913e-03, -1.56671414e-03,  0.00000000e+00, -2.30090902e-03,\n",
      "        6.72028959e-03, -4.46697231e-03,  6.90604607e-03,  7.25931767e-03,\n",
      "        3.82021628e-03, -6.22810051e-03,  4.54175100e-03, -2.46745325e-03,\n",
      "        3.06801382e-03, -5.23745175e-03, -6.46732375e-03, -7.05826050e-03,\n",
      "        5.47376648e-03, -6.47153996e-04, -5.51848300e-03,  6.51562260e-03,\n",
      "       -3.09968018e-03, -4.44189319e-03,  0.00000000e+00, -6.51676208e-03,\n",
      "        4.02860017e-03,  1.07483743e-02, -4.77104541e-03, -5.28812455e-03,\n",
      "       -2.24354258e-03, -8.08383152e-03, -3.73732881e-03, -7.45427283e-03,\n",
      "       -7.15627335e-04, -6.45543635e-03, -3.38652707e-03, -6.59439620e-03,\n",
      "        0.00000000e+00, -6.85382402e-03, -5.16860420e-03, -4.60656825e-03,\n",
      "        5.25636505e-03,  4.35466645e-03,  5.82935149e-03,  8.88184272e-03,\n",
      "        2.54595856e-04,  9.62360864e-05,  4.68106521e-03,  2.14550714e-03,\n",
      "       -5.27537102e-03, -6.20228052e-03, -4.46867896e-03,  5.29243553e-04,\n",
      "       -4.37353645e-03, -8.69653840e-03, -5.73509745e-03, -4.00932226e-03,\n",
      "       -4.49479464e-03,  4.66889562e-03, -6.70290599e-03, -5.13394130e-03,\n",
      "       -6.85237302e-03, -3.28609208e-03, -6.44592568e-03,  0.00000000e+00,\n",
      "        7.37565383e-03,  1.38921267e-03,  4.29098774e-03, -8.91975872e-03,\n",
      "        6.99342752e-04,  5.81997039e-04,  5.39187575e-03, -8.34779534e-03,\n",
      "       -4.52918373e-03,  4.56628716e-03, -5.91041101e-03, -1.68507418e-03,\n",
      "        4.25685372e-04, -8.07486475e-03, -5.08110831e-03,  4.86171013e-03,\n",
      "       -4.89257334e-04, -5.57532010e-04,  6.90954784e-03, -6.51798630e-03,\n",
      "        1.29533629e-03, -5.44628920e-03, -2.54863733e-03, -6.17437356e-04,\n",
      "       -5.28355595e-04, -7.90514611e-03, -5.37069002e-03,  5.55170095e-03,\n",
      "        8.42568558e-03, -5.87468594e-03,  8.10417626e-03,  1.54589536e-03,\n",
      "        3.55597958e-03,  1.22662298e-02, -6.03713794e-03,  1.70945656e-03,\n",
      "       -2.18151952e-03,  1.63199799e-03, -4.42204619e-04, -5.71822282e-03,\n",
      "       -1.04674716e-02,  1.01579679e-02, -1.12365512e-03,  2.37717642e-03],\n",
      "      dtype=float32), array([[-0.09507007, -0.08157986,  0.00126567, ...,  0.10156166,\n",
      "         0.04528933,  0.00817838],\n",
      "       [-0.01814282, -0.00843955, -0.00548246, ...,  0.09201082,\n",
      "        -0.00247575,  0.06082876],\n",
      "       [-0.03519423, -0.03286715, -0.06908889, ..., -0.03429836,\n",
      "        -0.09353184,  0.06719611],\n",
      "       ...,\n",
      "       [ 0.03694718, -0.05392394, -0.03362402, ..., -0.08457634,\n",
      "        -0.0969455 ,  0.02345635],\n",
      "       [ 0.00529713,  0.03715869, -0.05656311, ...,  0.08262344,\n",
      "        -0.02867554, -0.10147291],\n",
      "       [-0.0546992 , -0.0494448 ,  0.0249672 , ...,  0.08099572,\n",
      "         0.00183776, -0.04532384]], dtype=float32), array([-0.00130436, -0.00814172, -0.00486009, -0.00600165, -0.00832199,\n",
      "       -0.00596755, -0.00600027, -0.00261142, -0.00457946, -0.00574398],\n",
      "      dtype=float32), array([[-0.09096063,  0.5292435 , -0.02885512],\n",
      "       [-0.0976105 ,  0.18663839, -0.4472565 ],\n",
      "       [ 0.5317135 ,  0.03367031,  0.5393605 ],\n",
      "       [ 0.6036617 , -0.18644828, -0.17312565],\n",
      "       [-0.24060017, -0.10540624, -0.5989228 ],\n",
      "       [ 0.43129978, -0.12055053, -0.5144691 ],\n",
      "       [ 0.60315424, -0.15762042, -0.26232594],\n",
      "       [-0.6372006 ,  0.42093188, -0.1837562 ],\n",
      "       [ 0.5629136 , -0.33893615,  0.65754175],\n",
      "       [-0.00972522, -0.2899595 , -0.4068019 ]], dtype=float32), array([0.00023465, 0.00022227, 0.00023702], dtype=float32)]\n"
     ]
    }
   ],
   "source": [
    "print(model.get_weights())"
   ]
  },
  {
   "cell_type": "code",
   "execution_count": 34,
   "id": "d549d622",
   "metadata": {
    "execution": {
     "iopub.execute_input": "2025-02-27T04:21:24.241005Z",
     "iopub.status.busy": "2025-02-27T04:21:24.240650Z",
     "iopub.status.idle": "2025-02-27T04:21:24.260643Z",
     "shell.execute_reply": "2025-02-27T04:21:24.259689Z"
    },
    "papermill": {
     "duration": 0.056725,
     "end_time": "2025-02-27T04:21:24.262421",
     "exception": false,
     "start_time": "2025-02-27T04:21:24.205696",
     "status": "completed"
    },
    "tags": []
   },
   "outputs": [
    {
     "data": {
      "text/html": [
       "<pre style=\"white-space:pre;overflow-x:auto;line-height:normal;font-family:Menlo,'DejaVu Sans Mono',consolas,'Courier New',monospace\"><span style=\"font-weight: bold\">Model: \"sequential\"</span>\n",
       "</pre>\n"
      ],
      "text/plain": [
       "\u001b[1mModel: \"sequential\"\u001b[0m\n"
      ]
     },
     "metadata": {},
     "output_type": "display_data"
    },
    {
     "data": {
      "text/html": [
       "<pre style=\"white-space:pre;overflow-x:auto;line-height:normal;font-family:Menlo,'DejaVu Sans Mono',consolas,'Courier New',monospace\">┏━━━━━━━━━━━━━━━━━━━━━━━━━━━━━━━━━┳━━━━━━━━━━━━━━━━━━━━━━━━┳━━━━━━━━━━━━━━━┓\n",
       "┃<span style=\"font-weight: bold\"> Layer (type)                    </span>┃<span style=\"font-weight: bold\"> Output Shape           </span>┃<span style=\"font-weight: bold\">       Param # </span>┃\n",
       "┡━━━━━━━━━━━━━━━━━━━━━━━━━━━━━━━━━╇━━━━━━━━━━━━━━━━━━━━━━━━╇━━━━━━━━━━━━━━━┩\n",
       "│ dense (<span style=\"color: #0087ff; text-decoration-color: #0087ff\">Dense</span>)                   │ (<span style=\"color: #00d7ff; text-decoration-color: #00d7ff\">None</span>, <span style=\"color: #00af00; text-decoration-color: #00af00\">500</span>)            │         <span style=\"color: #00af00; text-decoration-color: #00af00\">3,000</span> │\n",
       "├─────────────────────────────────┼────────────────────────┼───────────────┤\n",
       "│ dense_1 (<span style=\"color: #0087ff; text-decoration-color: #0087ff\">Dense</span>)                 │ (<span style=\"color: #00d7ff; text-decoration-color: #00d7ff\">None</span>, <span style=\"color: #00af00; text-decoration-color: #00af00\">500</span>)            │       <span style=\"color: #00af00; text-decoration-color: #00af00\">250,500</span> │\n",
       "├─────────────────────────────────┼────────────────────────┼───────────────┤\n",
       "│ dense_2 (<span style=\"color: #0087ff; text-decoration-color: #0087ff\">Dense</span>)                 │ (<span style=\"color: #00d7ff; text-decoration-color: #00d7ff\">None</span>, <span style=\"color: #00af00; text-decoration-color: #00af00\">10</span>)             │         <span style=\"color: #00af00; text-decoration-color: #00af00\">5,010</span> │\n",
       "├─────────────────────────────────┼────────────────────────┼───────────────┤\n",
       "│ dense_3 (<span style=\"color: #0087ff; text-decoration-color: #0087ff\">Dense</span>)                 │ (<span style=\"color: #00d7ff; text-decoration-color: #00d7ff\">None</span>, <span style=\"color: #00af00; text-decoration-color: #00af00\">3</span>)              │            <span style=\"color: #00af00; text-decoration-color: #00af00\">33</span> │\n",
       "└─────────────────────────────────┴────────────────────────┴───────────────┘\n",
       "</pre>\n"
      ],
      "text/plain": [
       "┏━━━━━━━━━━━━━━━━━━━━━━━━━━━━━━━━━┳━━━━━━━━━━━━━━━━━━━━━━━━┳━━━━━━━━━━━━━━━┓\n",
       "┃\u001b[1m \u001b[0m\u001b[1mLayer (type)                   \u001b[0m\u001b[1m \u001b[0m┃\u001b[1m \u001b[0m\u001b[1mOutput Shape          \u001b[0m\u001b[1m \u001b[0m┃\u001b[1m \u001b[0m\u001b[1m      Param #\u001b[0m\u001b[1m \u001b[0m┃\n",
       "┡━━━━━━━━━━━━━━━━━━━━━━━━━━━━━━━━━╇━━━━━━━━━━━━━━━━━━━━━━━━╇━━━━━━━━━━━━━━━┩\n",
       "│ dense (\u001b[38;5;33mDense\u001b[0m)                   │ (\u001b[38;5;45mNone\u001b[0m, \u001b[38;5;34m500\u001b[0m)            │         \u001b[38;5;34m3,000\u001b[0m │\n",
       "├─────────────────────────────────┼────────────────────────┼───────────────┤\n",
       "│ dense_1 (\u001b[38;5;33mDense\u001b[0m)                 │ (\u001b[38;5;45mNone\u001b[0m, \u001b[38;5;34m500\u001b[0m)            │       \u001b[38;5;34m250,500\u001b[0m │\n",
       "├─────────────────────────────────┼────────────────────────┼───────────────┤\n",
       "│ dense_2 (\u001b[38;5;33mDense\u001b[0m)                 │ (\u001b[38;5;45mNone\u001b[0m, \u001b[38;5;34m10\u001b[0m)             │         \u001b[38;5;34m5,010\u001b[0m │\n",
       "├─────────────────────────────────┼────────────────────────┼───────────────┤\n",
       "│ dense_3 (\u001b[38;5;33mDense\u001b[0m)                 │ (\u001b[38;5;45mNone\u001b[0m, \u001b[38;5;34m3\u001b[0m)              │            \u001b[38;5;34m33\u001b[0m │\n",
       "└─────────────────────────────────┴────────────────────────┴───────────────┘\n"
      ]
     },
     "metadata": {},
     "output_type": "display_data"
    },
    {
     "data": {
      "text/html": [
       "<pre style=\"white-space:pre;overflow-x:auto;line-height:normal;font-family:Menlo,'DejaVu Sans Mono',consolas,'Courier New',monospace\"><span style=\"font-weight: bold\"> Total params: </span><span style=\"color: #00af00; text-decoration-color: #00af00\">775,631</span> (2.96 MB)\n",
       "</pre>\n"
      ],
      "text/plain": [
       "\u001b[1m Total params: \u001b[0m\u001b[38;5;34m775,631\u001b[0m (2.96 MB)\n"
      ]
     },
     "metadata": {},
     "output_type": "display_data"
    },
    {
     "data": {
      "text/html": [
       "<pre style=\"white-space:pre;overflow-x:auto;line-height:normal;font-family:Menlo,'DejaVu Sans Mono',consolas,'Courier New',monospace\"><span style=\"font-weight: bold\"> Trainable params: </span><span style=\"color: #00af00; text-decoration-color: #00af00\">258,543</span> (1009.93 KB)\n",
       "</pre>\n"
      ],
      "text/plain": [
       "\u001b[1m Trainable params: \u001b[0m\u001b[38;5;34m258,543\u001b[0m (1009.93 KB)\n"
      ]
     },
     "metadata": {},
     "output_type": "display_data"
    },
    {
     "data": {
      "text/html": [
       "<pre style=\"white-space:pre;overflow-x:auto;line-height:normal;font-family:Menlo,'DejaVu Sans Mono',consolas,'Courier New',monospace\"><span style=\"font-weight: bold\"> Non-trainable params: </span><span style=\"color: #00af00; text-decoration-color: #00af00\">0</span> (0.00 B)\n",
       "</pre>\n"
      ],
      "text/plain": [
       "\u001b[1m Non-trainable params: \u001b[0m\u001b[38;5;34m0\u001b[0m (0.00 B)\n"
      ]
     },
     "metadata": {},
     "output_type": "display_data"
    },
    {
     "data": {
      "text/html": [
       "<pre style=\"white-space:pre;overflow-x:auto;line-height:normal;font-family:Menlo,'DejaVu Sans Mono',consolas,'Courier New',monospace\"><span style=\"font-weight: bold\"> Optimizer params: </span><span style=\"color: #00af00; text-decoration-color: #00af00\">517,088</span> (1.97 MB)\n",
       "</pre>\n"
      ],
      "text/plain": [
       "\u001b[1m Optimizer params: \u001b[0m\u001b[38;5;34m517,088\u001b[0m (1.97 MB)\n"
      ]
     },
     "metadata": {},
     "output_type": "display_data"
    }
   ],
   "source": [
    "model.summary()"
   ]
  },
  {
   "cell_type": "code",
   "execution_count": 35,
   "id": "bfbb646e",
   "metadata": {
    "execution": {
     "iopub.execute_input": "2025-02-27T04:21:24.331878Z",
     "iopub.status.busy": "2025-02-27T04:21:24.331503Z",
     "iopub.status.idle": "2025-02-27T04:21:24.659653Z",
     "shell.execute_reply": "2025-02-27T04:21:24.658587Z"
    },
    "papermill": {
     "duration": 0.36648,
     "end_time": "2025-02-27T04:21:24.661797",
     "exception": false,
     "start_time": "2025-02-27T04:21:24.295317",
     "status": "completed"
    },
    "tags": []
   },
   "outputs": [
    {
     "data": {
      "image/png": "[encoded data removed]",
      "text/plain": [
       "<IPython.core.display.Image object>"
      ]
     },
     "execution_count": 35,
     "metadata": {},
     "output_type": "execute_result"
    }
   ],
   "source": [
    "# Visualize Model\n",
    "#from keras.utils.vis_utils import plot_model\n",
    "from tensorflow.keras.utils import to_categorical, plot_model\n",
    "plot_model(model, to_file='model_plot.png', \n",
    "           show_shapes=True, \n",
    "           show_layer_names=True, \n",
    "           dpi=50, \n",
    "           show_layer_activations=True,\n",
    "           show_trainable=True)"
   ]
  }
 ],
 "metadata": {
  "kaggle": {
   "accelerator": "none",
   "dataSources": [
    {
     "datasetId": 5227,
     "sourceId": 7876,
     "sourceType": "datasetVersion"
    },
    {
     "datasetId": 2910447,
     "sourceId": 5015574,
     "sourceType": "datasetVersion"
    }
   ],
   "dockerImageVersionId": 30786,
   "isGpuEnabled": false,
   "isInternetEnabled": true,
   "language": "python",
   "sourceType": "notebook"
  },
  "kernelspec": {
   "display_name": "Python 3",
   "language": "python",
   "name": "python3"
  },
  "language_info": {
   "codemirror_mode": {
    "name": "ipython",
    "version": 3
   },
   "file_extension": ".py",
   "mimetype": "text/x-python",
   "name": "python",
   "nbconvert_exporter": "python",
   "pygments_lexer": "ipython3",
   "version": "3.10.14"
  },
  "papermill": {
   "default_parameters": {},
   "duration": 49.524977,
   "end_time": "2025-02-27T04:21:26.321120",
   "environment_variables": {},
   "exception": null,
   "input_path": "__notebook__.ipynb",
   "output_path": "__notebook__.ipynb",
   "parameters": {},
   "start_time": "2025-02-27T04:20:36.796143",
   "version": "2.6.0"
  },
  "widgets": {
   "application/vnd.jupyter.widget-state+json": {
    "state": {
     "013f9d955f4d4d5892da21ce3eeb0ca9": {
      "model_module": "@jupyter-widgets/controls",
      "model_module_version": "1.5.0",
      "model_name": "FloatSliderModel",
      "state": {
       "_dom_classes": [],
       "_model_module": "@jupyter-widgets/controls",
       "_model_module_version": "1.5.0",
       "_model_name": "FloatSliderModel",
       "_view_count": null,
       "_view_module": "@jupyter-widgets/controls",
       "_view_module_version": "1.5.0",
       "_view_name": "FloatSliderView",
       "continuous_update": true,
       "description": "Fuel Con City:",
       "description_tooltip": null,
       "disabled": false,
       "layout": "IPY_MODEL_df233065774f4f4eb7e9e2d00fe38c8f",
       "max": 31.0,
       "min": 4.0,
       "orientation": "horizontal",
       "readout": true,
       "readout_format": ".2f",
       "step": 0.1,
       "style": "IPY_MODEL_3a38ca5b8fdb41a7b1c3081fb2ccb2a5",
       "value": 4.0
      }
     },
     "0254da65ae4c40369e37794496eb6030": {
      "model_module": "@jupyter-widgets/controls",
      "model_module_version": "1.5.0",
      "model_name": "FloatSliderModel",
      "state": {
       "_dom_classes": [],
       "_model_module": "@jupyter-widgets/controls",
       "_model_module_version": "1.5.0",
       "_model_name": "FloatSliderModel",
       "_view_count": null,
       "_view_module": "@jupyter-widgets/controls",
       "_view_module_version": "1.5.0",
       "_view_name": "FloatSliderView",
       "continuous_update": true,
       "description": "Fuel Con (km):",
       "description_tooltip": null,
       "disabled": false,
       "layout": "IPY_MODEL_18c1da21baa64a2195e483627c7a3b25",
       "max": 26.5,
       "min": 4.0,
       "orientation": "horizontal",
       "readout": true,
       "readout_format": ".2f",
       "step": 0.1,
       "style": "IPY_MODEL_47c070ca43e343ee86d681f0321b8eba",
       "value": 4.0
      }
     },
     "09f8f4a8aeab4be3b0235916ca1494db": {
      "model_module": "@jupyter-widgets/controls",
      "model_module_version": "1.5.0",
      "model_name": "SliderStyleModel",
      "state": {
       "_model_module": "@jupyter-widgets/controls",
       "_model_module_version": "1.5.0",
       "_model_name": "SliderStyleModel",
       "_view_count": null,
       "_view_module": "@jupyter-widgets/base",
       "_view_module_version": "1.2.0",
       "_view_name": "StyleView",
       "description_width": "",
       "handle_color": null
      }
     },
     "18c1da21baa64a2195e483627c7a3b25": {
      "model_module": "@jupyter-widgets/base",
      "model_module_version": "1.2.0",
      "model_name": "LayoutModel",
      "state": {
       "_model_module": "@jupyter-widgets/base",
       "_model_module_version": "1.2.0",
       "_model_name": "LayoutModel",
       "_view_count": null,
       "_view_module": "@jupyter-widgets/base",
       "_view_module_version": "1.2.0",
       "_view_name": "LayoutView",
       "align_content": null,
       "align_items": null,
       "align_self": null,
       "border": null,
       "bottom": null,
       "display": null,
       "flex": null,
       "flex_flow": null,
       "grid_area": null,
       "grid_auto_columns": null,
       "grid_auto_flow": null,
       "grid_auto_rows": null,
       "grid_column": null,
       "grid_gap": null,
       "grid_row": null,
       "grid_template_areas": null,
       "grid_template_columns": null,
       "grid_template_rows": null,
       "height": null,
       "justify_content": null,
       "justify_items": null,
       "left": null,
       "margin": null,
       "max_height": null,
       "max_width": null,
       "min_height": null,
       "min_width": null,
       "object_fit": null,
       "object_position": null,
       "order": null,
       "overflow": null,
       "overflow_x": null,
       "overflow_y": null,
       "padding": null,
       "right": null,
       "top": null,
       "visibility": null,
       "width": null
      }
     },
     "1d3bfae5e04f4dd0993bb1b9553629dd": {
      "model_module": "@jupyter-widgets/base",
      "model_module_version": "1.2.0",
      "model_name": "LayoutModel",
      "state": {
       "_model_module": "@jupyter-widgets/base",
       "_model_module_version": "1.2.0",
       "_model_name": "LayoutModel",
       "_view_count": null,
       "_view_module": "@jupyter-widgets/base",
       "_view_module_version": "1.2.0",
       "_view_name": "LayoutView",
       "align_content": null,
       "align_items": null,
       "align_self": null,
       "border": null,
       "bottom": null,
       "display": null,
       "flex": null,
       "flex_flow": null,
       "grid_area": null,
       "grid_auto_columns": null,
       "grid_auto_flow": null,
       "grid_auto_rows": null,
       "grid_column": null,
       "grid_gap": null,
       "grid_row": null,
       "grid_template_areas": null,
       "grid_template_columns": null,
       "grid_template_rows": null,
       "height": null,
       "justify_content": null,
       "justify_items": null,
       "left": null,
       "margin": null,
       "max_height": null,
       "max_width": null,
       "min_height": null,
       "min_width": null,
       "object_fit": null,
       "object_position": null,
       "order": null,
       "overflow": null,
       "overflow_x": null,
       "overflow_y": null,
       "padding": null,
       "right": null,
       "top": null,
       "visibility": null,
       "width": null
      }
     },
     "3a38ca5b8fdb41a7b1c3081fb2ccb2a5": {
      "model_module": "@jupyter-widgets/controls",
      "model_module_version": "1.5.0",
      "model_name": "SliderStyleModel",
      "state": {
       "_model_module": "@jupyter-widgets/controls",
       "_model_module_version": "1.5.0",
       "_model_name": "SliderStyleModel",
       "_view_count": null,
       "_view_module": "@jupyter-widgets/base",
       "_view_module_version": "1.2.0",
       "_view_name": "StyleView",
       "description_width": "",
       "handle_color": null
      }
     },
     "47c070ca43e343ee86d681f0321b8eba": {
      "model_module": "@jupyter-widgets/controls",
      "model_module_version": "1.5.0",
      "model_name": "SliderStyleModel",
      "state": {
       "_model_module": "@jupyter-widgets/controls",
       "_model_module_version": "1.5.0",
       "_model_name": "SliderStyleModel",
       "_view_count": null,
       "_view_module": "@jupyter-widgets/base",
       "_view_module_version": "1.2.0",
       "_view_name": "StyleView",
       "description_width": "",
       "handle_color": null
      }
     },
     "4caaa4c2894e42a7a21731081d4c9a27": {
      "model_module": "@jupyter-widgets/controls",
      "model_module_version": "1.5.0",
      "model_name": "FloatSliderModel",
      "state": {
       "_dom_classes": [],
       "_model_module": "@jupyter-widgets/controls",
       "_model_module_version": "1.5.0",
       "_model_name": "FloatSliderModel",
       "_view_count": null,
       "_view_module": "@jupyter-widgets/controls",
       "_view_module_version": "1.5.0",
       "_view_name": "FloatSliderView",
       "continuous_update": true,
       "description": "Fuel Con Hwy",
       "description_tooltip": null,
       "disabled": false,
       "layout": "IPY_MODEL_1d3bfae5e04f4dd0993bb1b9553629dd",
       "max": 21.0,
       "min": 4.0,
       "orientation": "horizontal",
       "readout": true,
       "readout_format": ".2f",
       "step": 0.1,
       "style": "IPY_MODEL_e395ed13c8e245b9b0849faf677fd0df",
       "value": 4.0
      }
     },
     "4ecbb5ea8fb94b27bfe716413dbd4854": {
      "model_module": "@jupyter-widgets/controls",
      "model_module_version": "1.5.0",
      "model_name": "FloatSliderModel",
      "state": {
       "_dom_classes": [],
       "_model_module": "@jupyter-widgets/controls",
       "_model_module_version": "1.5.0",
       "_model_name": "FloatSliderModel",
       "_view_count": null,
       "_view_module": "@jupyter-widgets/controls",
       "_view_module_version": "1.5.0",
       "_view_name": "FloatSliderView",
       "continuous_update": true,
       "description": "Engine Size      :",
       "description_tooltip": null,
       "disabled": false,
       "layout": "IPY_MODEL_f8eb7ba8982641d68d995503b77e6d2c",
       "max": 8.1,
       "min": 3.0,
       "orientation": "horizontal",
       "readout": true,
       "readout_format": ".2f",
       "step": 0.1,
       "style": "IPY_MODEL_63d7bff668da40649a3ececaf9c5490f",
       "value": 3.0
      }
     },
     "52d5c32e9c3941a4b3730bf6ce10ae29": {
      "model_module": "@jupyter-widgets/base",
      "model_module_version": "1.2.0",
      "model_name": "LayoutModel",
      "state": {
       "_model_module": "@jupyter-widgets/base",
       "_model_module_version": "1.2.0",
       "_model_name": "LayoutModel",
       "_view_count": null,
       "_view_module": "@jupyter-widgets/base",
       "_view_module_version": "1.2.0",
       "_view_name": "LayoutView",
       "align_content": null,
       "align_items": null,
       "align_self": null,
       "border": null,
       "bottom": null,
       "display": null,
       "flex": null,
       "flex_flow": null,
       "grid_area": null,
       "grid_auto_columns": null,
       "grid_auto_flow": null,
       "grid_auto_rows": null,
       "grid_column": null,
       "grid_gap": null,
       "grid_row": null,
       "grid_template_areas": null,
       "grid_template_columns": null,
       "grid_template_rows": null,
       "height": null,
       "justify_content": null,
       "justify_items": null,
       "left": null,
       "margin": null,
       "max_height": null,
       "max_width": null,
       "min_height": null,
       "min_width": null,
       "object_fit": null,
       "object_position": null,
       "order": null,
       "overflow": null,
       "overflow_x": null,
       "overflow_y": null,
       "padding": null,
       "right": null,
       "top": null,
       "visibility": null,
       "width": null
      }
     },
     "5858dc50747c4881b8bcd5f255c33cd2": {
      "model_module": "@jupyter-widgets/controls",
      "model_module_version": "1.5.0",
      "model_name": "FloatSliderModel",
      "state": {
       "_dom_classes": [],
       "_model_module": "@jupyter-widgets/controls",
       "_model_module_version": "1.5.0",
       "_model_name": "FloatSliderModel",
       "_view_count": null,
       "_view_module": "@jupyter-widgets/controls",
       "_view_module_version": "1.5.0",
       "_view_name": "FloatSliderView",
       "continuous_update": true,
       "description": "Fuel Con City:",
       "description_tooltip": null,
       "disabled": false,
       "layout": "IPY_MODEL_8ac68e90d10c4e178c51003a741d32d8",
       "max": 31.0,
       "min": 4.0,
       "orientation": "horizontal",
       "readout": true,
       "readout_format": ".2f",
       "step": 0.1,
       "style": "IPY_MODEL_09f8f4a8aeab4be3b0235916ca1494db",
       "value": 4.0
      }
     },
     "5862631da9654a92925015a30ea36486": {
      "model_module": "@jupyter-widgets/output",
      "model_module_version": "1.0.0",
      "model_name": "OutputModel",
      "state": {
       "_dom_classes": [],
       "_model_module": "@jupyter-widgets/output",
       "_model_module_version": "1.0.0",
       "_model_name": "OutputModel",
       "_view_count": null,
       "_view_module": "@jupyter-widgets/output",
       "_view_module_version": "1.0.0",
       "_view_name": "OutputView",
       "layout": "IPY_MODEL_bcd5d4daee8a4b3caa22cf5beaf9618c",
       "msg_id": "",
       "outputs": [
        {
         "name": "stdout",
         "output_type": "stream",
         "text": "If inputs are [3.0, 3.0,4.0, 4.0,4.0] predicted CO2 is : 96\n"
        },
        {
         "name": "stderr",
         "output_type": "stream",
         "text": "/opt/conda/lib/python3.10/site-packages/sklearn/base.py:439: UserWarning: X does not have valid feature names, but MLPRegressor was fitted with feature names\n  warnings.warn(\n/tmp/ipykernel_17/384294422.py:22: DeprecationWarning: Conversion of an array with ndim > 0 to a scalar is deprecated, and will error in future. Ensure you extract a single element from your array before performing this operation. (Deprecated NumPy 1.25.)\n  print('If inputs are [%1.1f, %1.1f,%1.1f, %1.1f,%1.1f] predicted CO2 is : %d' % (x1,x2,x3,x4,x5,yhat))\n"
        }
       ]
      }
     },
     "59a3fbb41c914497b72e3985b68e53c7": {
      "model_module": "@jupyter-widgets/controls",
      "model_module_version": "1.5.0",
      "model_name": "SliderStyleModel",
      "state": {
       "_model_module": "@jupyter-widgets/controls",
       "_model_module_version": "1.5.0",
       "_model_name": "SliderStyleModel",
       "_view_count": null,
       "_view_module": "@jupyter-widgets/base",
       "_view_module_version": "1.2.0",
       "_view_name": "StyleView",
       "description_width": "",
       "handle_color": null
      }
     },
     "5a12662c4cf4419a9aa208d51ec9e8a0": {
      "model_module": "@jupyter-widgets/controls",
      "model_module_version": "1.5.0",
      "model_name": "SliderStyleModel",
      "state": {
       "_model_module": "@jupyter-widgets/controls",
       "_model_module_version": "1.5.0",
       "_model_name": "SliderStyleModel",
       "_view_count": null,
       "_view_module": "@jupyter-widgets/base",
       "_view_module_version": "1.2.0",
       "_view_name": "StyleView",
       "description_width": "",
       "handle_color": null
      }
     },
     "6002f90a0b9945df88a294fba47cdc37": {
      "model_module": "@jupyter-widgets/base",
      "model_module_version": "1.2.0",
      "model_name": "LayoutModel",
      "state": {
       "_model_module": "@jupyter-widgets/base",
       "_model_module_version": "1.2.0",
       "_model_name": "LayoutModel",
       "_view_count": null,
       "_view_module": "@jupyter-widgets/base",
       "_view_module_version": "1.2.0",
       "_view_name": "LayoutView",
       "align_content": null,
       "align_items": null,
       "align_self": null,
       "border": null,
       "bottom": null,
       "display": null,
       "flex": null,
       "flex_flow": null,
       "grid_area": null,
       "grid_auto_columns": null,
       "grid_auto_flow": null,
       "grid_auto_rows": null,
       "grid_column": null,
       "grid_gap": null,
       "grid_row": null,
       "grid_template_areas": null,
       "grid_template_columns": null,
       "grid_template_rows": null,
       "height": null,
       "justify_content": null,
       "justify_items": null,
       "left": null,
       "margin": null,
       "max_height": null,
       "max_width": null,
       "min_height": null,
       "min_width": null,
       "object_fit": null,
       "object_position": null,
       "order": null,
       "overflow": null,
       "overflow_x": null,
       "overflow_y": null,
       "padding": null,
       "right": null,
       "top": null,
       "visibility": null,
       "width": null
      }
     },
     "63d7bff668da40649a3ececaf9c5490f": {
      "model_module": "@jupyter-widgets/controls",
      "model_module_version": "1.5.0",
      "model_name": "SliderStyleModel",
      "state": {
       "_model_module": "@jupyter-widgets/controls",
       "_model_module_version": "1.5.0",
       "_model_name": "SliderStyleModel",
       "_view_count": null,
       "_view_module": "@jupyter-widgets/base",
       "_view_module_version": "1.2.0",
       "_view_name": "StyleView",
       "description_width": "",
       "handle_color": null
      }
     },
     "659c81928dd642639e1b8452697e2d47": {
      "model_module": "@jupyter-widgets/controls",
      "model_module_version": "1.5.0",
      "model_name": "FloatSliderModel",
      "state": {
       "_dom_classes": [],
       "_model_module": "@jupyter-widgets/controls",
       "_model_module_version": "1.5.0",
       "_model_name": "FloatSliderModel",
       "_view_count": null,
       "_view_module": "@jupyter-widgets/controls",
       "_view_module_version": "1.5.0",
       "_view_name": "FloatSliderView",
       "continuous_update": true,
       "description": "Fuel Con (km):",
       "description_tooltip": null,
       "disabled": false,
       "layout": "IPY_MODEL_be40f83cdbb240d38349993faf45496c",
       "max": 26.5,
       "min": 4.0,
       "orientation": "horizontal",
       "readout": true,
       "readout_format": ".2f",
       "step": 0.1,
       "style": "IPY_MODEL_5a12662c4cf4419a9aa208d51ec9e8a0",
       "value": 4.0
      }
     },
     "6fdc51dd0d654660ad5f7ced8a7c2e60": {
      "model_module": "@jupyter-widgets/controls",
      "model_module_version": "1.5.0",
      "model_name": "FloatSliderModel",
      "state": {
       "_dom_classes": [],
       "_model_module": "@jupyter-widgets/controls",
       "_model_module_version": "1.5.0",
       "_model_name": "FloatSliderModel",
       "_view_count": null,
       "_view_module": "@jupyter-widgets/controls",
       "_view_module_version": "1.5.0",
       "_view_name": "FloatSliderView",
       "continuous_update": true,
       "description": "Cylinders:",
       "description_tooltip": null,
       "disabled": false,
       "layout": "IPY_MODEL_6002f90a0b9945df88a294fba47cdc37",
       "max": 16.0,
       "min": 3.0,
       "orientation": "horizontal",
       "readout": true,
       "readout_format": ".2f",
       "step": 1.0,
       "style": "IPY_MODEL_71e2b03f18b7498ba0d2978dd6055444",
       "value": 3.0
      }
     },
     "71e2b03f18b7498ba0d2978dd6055444": {
      "model_module": "@jupyter-widgets/controls",
      "model_module_version": "1.5.0",
      "model_name": "SliderStyleModel",
      "state": {
       "_model_module": "@jupyter-widgets/controls",
       "_model_module_version": "1.5.0",
       "_model_name": "SliderStyleModel",
       "_view_count": null,
       "_view_module": "@jupyter-widgets/base",
       "_view_module_version": "1.2.0",
       "_view_name": "StyleView",
       "description_width": "",
       "handle_color": null
      }
     },
     "73f93e5d9d914106bd3c041328dd34fd": {
      "model_module": "@jupyter-widgets/controls",
      "model_module_version": "1.5.0",
      "model_name": "VBoxModel",
      "state": {
       "_dom_classes": [
        "widget-interact"
       ],
       "_model_module": "@jupyter-widgets/controls",
       "_model_module_version": "1.5.0",
       "_model_name": "VBoxModel",
       "_view_count": null,
       "_view_module": "@jupyter-widgets/controls",
       "_view_module_version": "1.5.0",
       "_view_name": "VBoxView",
       "box_style": "",
       "children": [
        "IPY_MODEL_4ecbb5ea8fb94b27bfe716413dbd4854",
        "IPY_MODEL_6fdc51dd0d654660ad5f7ced8a7c2e60",
        "IPY_MODEL_5858dc50747c4881b8bcd5f255c33cd2",
        "IPY_MODEL_d6bab5ee8e37400b90bd10ab54c05072",
        "IPY_MODEL_0254da65ae4c40369e37794496eb6030",
        "IPY_MODEL_aca826ad807d414da159a8f3bbaa5aa4"
       ],
       "layout": "IPY_MODEL_eebb1687b1a246bf8e2877943be967b7"
      }
     },
     "7799c5aa6d4f463bbd1a7cfc777cf4d6": {
      "model_module": "@jupyter-widgets/base",
      "model_module_version": "1.2.0",
      "model_name": "LayoutModel",
      "state": {
       "_model_module": "@jupyter-widgets/base",
       "_model_module_version": "1.2.0",
       "_model_name": "LayoutModel",
       "_view_count": null,
       "_view_module": "@jupyter-widgets/base",
       "_view_module_version": "1.2.0",
       "_view_name": "LayoutView",
       "align_content": null,
       "align_items": null,
       "align_self": null,
       "border": null,
       "bottom": null,
       "display": null,
       "flex": null,
       "flex_flow": null,
       "grid_area": null,
       "grid_auto_columns": null,
       "grid_auto_flow": null,
       "grid_auto_rows": null,
       "grid_column": null,
       "grid_gap": null,
       "grid_row": null,
       "grid_template_areas": null,
       "grid_template_columns": null,
       "grid_template_rows": null,
       "height": null,
       "justify_content": null,
       "justify_items": null,
       "left": null,
       "margin": null,
       "max_height": null,
       "max_width": null,
       "min_height": null,
       "min_width": null,
       "object_fit": null,
       "object_position": null,
       "order": null,
       "overflow": null,
       "overflow_x": null,
       "overflow_y": null,
       "padding": null,
       "right": null,
       "top": null,
       "visibility": null,
       "width": null
      }
     },
     "837eebaf2c4645b19152d67831d2b001": {
      "model_module": "@jupyter-widgets/controls",
      "model_module_version": "1.5.0",
      "model_name": "SliderStyleModel",
      "state": {
       "_model_module": "@jupyter-widgets/controls",
       "_model_module_version": "1.5.0",
       "_model_name": "SliderStyleModel",
       "_view_count": null,
       "_view_module": "@jupyter-widgets/base",
       "_view_module_version": "1.2.0",
       "_view_name": "StyleView",
       "description_width": "",
       "handle_color": null
      }
     },
     "86759d36820e4593b03b291b5d6a12ce": {
      "model_module": "@jupyter-widgets/controls",
      "model_module_version": "1.5.0",
      "model_name": "FloatSliderModel",
      "state": {
       "_dom_classes": [],
       "_model_module": "@jupyter-widgets/controls",
       "_model_module_version": "1.5.0",
       "_model_name": "FloatSliderModel",
       "_view_count": null,
       "_view_module": "@jupyter-widgets/controls",
       "_view_module_version": "1.5.0",
       "_view_name": "FloatSliderView",
       "continuous_update": true,
       "description": "Cylinders:",
       "description_tooltip": null,
       "disabled": false,
       "layout": "IPY_MODEL_9d8b81b0c7e24a67a7cca474ddd5c153",
       "max": 16.0,
       "min": 3.0,
       "orientation": "horizontal",
       "readout": true,
       "readout_format": ".2f",
       "step": 1.0,
       "style": "IPY_MODEL_9469e2e258ff4d23b5e61611cb8f519b",
       "value": 3.0
      }
     },
     "8ac68e90d10c4e178c51003a741d32d8": {
      "model_module": "@jupyter-widgets/base",
      "model_module_version": "1.2.0",
      "model_name": "LayoutModel",
      "state": {
       "_model_module": "@jupyter-widgets/base",
       "_model_module_version": "1.2.0",
       "_model_name": "LayoutModel",
       "_view_count": null,
       "_view_module": "@jupyter-widgets/base",
       "_view_module_version": "1.2.0",
       "_view_name": "LayoutView",
       "align_content": null,
       "align_items": null,
       "align_self": null,
       "border": null,
       "bottom": null,
       "display": null,
       "flex": null,
       "flex_flow": null,
       "grid_area": null,
       "grid_auto_columns": null,
       "grid_auto_flow": null,
       "grid_auto_rows": null,
       "grid_column": null,
       "grid_gap": null,
       "grid_row": null,
       "grid_template_areas": null,
       "grid_template_columns": null,
       "grid_template_rows": null,
       "height": null,
       "justify_content": null,
       "justify_items": null,
       "left": null,
       "margin": null,
       "max_height": null,
       "max_width": null,
       "min_height": null,
       "min_width": null,
       "object_fit": null,
       "object_position": null,
       "order": null,
       "overflow": null,
       "overflow_x": null,
       "overflow_y": null,
       "padding": null,
       "right": null,
       "top": null,
       "visibility": null,
       "width": null
      }
     },
     "9469e2e258ff4d23b5e61611cb8f519b": {
      "model_module": "@jupyter-widgets/controls",
      "model_module_version": "1.5.0",
      "model_name": "SliderStyleModel",
      "state": {
       "_model_module": "@jupyter-widgets/controls",
       "_model_module_version": "1.5.0",
       "_model_name": "SliderStyleModel",
       "_view_count": null,
       "_view_module": "@jupyter-widgets/base",
       "_view_module_version": "1.2.0",
       "_view_name": "StyleView",
       "description_width": "",
       "handle_color": null
      }
     },
     "9bc75f82eadf4268943cbe6b94cf0026": {
      "model_module": "@jupyter-widgets/controls",
      "model_module_version": "1.5.0",
      "model_name": "FloatSliderModel",
      "state": {
       "_dom_classes": [],
       "_model_module": "@jupyter-widgets/controls",
       "_model_module_version": "1.5.0",
       "_model_name": "FloatSliderModel",
       "_view_count": null,
       "_view_module": "@jupyter-widgets/controls",
       "_view_module_version": "1.5.0",
       "_view_name": "FloatSliderView",
       "continuous_update": true,
       "description": "Engine Size:",
       "description_tooltip": null,
       "disabled": false,
       "layout": "IPY_MODEL_52d5c32e9c3941a4b3730bf6ce10ae29",
       "max": 8.1,
       "min": 3.0,
       "orientation": "horizontal",
       "readout": true,
       "readout_format": ".2f",
       "step": 0.1,
       "style": "IPY_MODEL_837eebaf2c4645b19152d67831d2b001",
       "value": 3.0
      }
     },
     "9d8b81b0c7e24a67a7cca474ddd5c153": {
      "model_module": "@jupyter-widgets/base",
      "model_module_version": "1.2.0",
      "model_name": "LayoutModel",
      "state": {
       "_model_module": "@jupyter-widgets/base",
       "_model_module_version": "1.2.0",
       "_model_name": "LayoutModel",
       "_view_count": null,
       "_view_module": "@jupyter-widgets/base",
       "_view_module_version": "1.2.0",
       "_view_name": "LayoutView",
       "align_content": null,
       "align_items": null,
       "align_self": null,
       "border": null,
       "bottom": null,
       "display": null,
       "flex": null,
       "flex_flow": null,
       "grid_area": null,
       "grid_auto_columns": null,
       "grid_auto_flow": null,
       "grid_auto_rows": null,
       "grid_column": null,
       "grid_gap": null,
       "grid_row": null,
       "grid_template_areas": null,
       "grid_template_columns": null,
       "grid_template_rows": null,
       "height": null,
       "justify_content": null,
       "justify_items": null,
       "left": null,
       "margin": null,
       "max_height": null,
       "max_width": null,
       "min_height": null,
       "min_width": null,
       "object_fit": null,
       "object_position": null,
       "order": null,
       "overflow": null,
       "overflow_x": null,
       "overflow_y": null,
       "padding": null,
       "right": null,
       "top": null,
       "visibility": null,
       "width": null
      }
     },
     "aca826ad807d414da159a8f3bbaa5aa4": {
      "model_module": "@jupyter-widgets/output",
      "model_module_version": "1.0.0",
      "model_name": "OutputModel",
      "state": {
       "_dom_classes": [],
       "_model_module": "@jupyter-widgets/output",
       "_model_module_version": "1.0.0",
       "_model_name": "OutputModel",
       "_view_count": null,
       "_view_module": "@jupyter-widgets/output",
       "_view_module_version": "1.0.0",
       "_view_name": "OutputView",
       "layout": "IPY_MODEL_7799c5aa6d4f463bbd1a7cfc777cf4d6",
       "msg_id": "",
       "outputs": [
        {
         "name": "stdout",
         "output_type": "stream",
         "text": "\r\u001b[1m1/1\u001b[0m \u001b[32m━━━━━━━━━━━━━━━━━━━━\u001b[0m\u001b[37m\u001b[0m \u001b[1m0s\u001b[0m 66ms/step\b\b\b\b\b\b\b\b\b\b\b\b\b\b\b\b\b\b\b\b\b\b\b\b\b\b\b\b\b\b\b\b\b\b\b\b\b\r\u001b[1m1/1\u001b[0m \u001b[32m━━━━━━━━━━━━━━━━━━━━\u001b[0m\u001b[37m\u001b[0m \u001b[1m0s\u001b[0m 67ms/step\n"
        },
        {
         "ename": "TypeError",
         "evalue": "%d format: a real number is required, not numpy.ndarray",
         "output_type": "error",
         "traceback": [
          "\u001b[0;31m---------------------------------------------------------------------------\u001b[0m",
          "\u001b[0;31mTypeError\u001b[0m                                 Traceback (most recent call last)",
          "File \u001b[0;32m/opt/conda/lib/python3.10/site-packages/ipywidgets/widgets/interaction.py:257\u001b[0m, in \u001b[0;36minteractive.update\u001b[0;34m(self, *args)\u001b[0m\n\u001b[1;32m    255\u001b[0m     value \u001b[38;5;241m=\u001b[39m widget\u001b[38;5;241m.\u001b[39mget_interact_value()\n\u001b[1;32m    256\u001b[0m     \u001b[38;5;28mself\u001b[39m\u001b[38;5;241m.\u001b[39mkwargs[widget\u001b[38;5;241m.\u001b[39m_kwarg] \u001b[38;5;241m=\u001b[39m value\n\u001b[0;32m--> 257\u001b[0m \u001b[38;5;28mself\u001b[39m\u001b[38;5;241m.\u001b[39mresult \u001b[38;5;241m=\u001b[39m \u001b[38;5;28;43mself\u001b[39;49m\u001b[38;5;241;43m.\u001b[39;49m\u001b[43mf\u001b[49m\u001b[43m(\u001b[49m\u001b[38;5;241;43m*\u001b[39;49m\u001b[38;5;241;43m*\u001b[39;49m\u001b[38;5;28;43mself\u001b[39;49m\u001b[38;5;241;43m.\u001b[39;49m\u001b[43mkwargs\u001b[49m\u001b[43m)\u001b[49m\n\u001b[1;32m    258\u001b[0m show_inline_matplotlib_plots()\n\u001b[1;32m    259\u001b[0m \u001b[38;5;28;01mif\u001b[39;00m \u001b[38;5;28mself\u001b[39m\u001b[38;5;241m.\u001b[39mauto_display \u001b[38;5;129;01mand\u001b[39;00m \u001b[38;5;28mself\u001b[39m\u001b[38;5;241m.\u001b[39mresult \u001b[38;5;129;01mis\u001b[39;00m \u001b[38;5;129;01mnot\u001b[39;00m \u001b[38;5;28;01mNone\u001b[39;00m:\n",
          "Cell \u001b[0;32mIn[31], line 23\u001b[0m, in \u001b[0;36mpredict\u001b[0;34m(x1, x2, x3, x4, x5)\u001b[0m\n\u001b[1;32m     21\u001b[0m yhat \u001b[38;5;241m=\u001b[39m model\u001b[38;5;241m.\u001b[39mpredict([new_input])\n\u001b[1;32m     22\u001b[0m \u001b[38;5;66;03m# summarize prediction\u001b[39;00m\n\u001b[0;32m---> 23\u001b[0m \u001b[38;5;28mprint\u001b[39m(\u001b[38;5;124;43m'\u001b[39;49m\u001b[38;5;124;43mIf inputs are [\u001b[39;49m\u001b[38;5;132;43;01m%1.1f\u001b[39;49;00m\u001b[38;5;124;43m, \u001b[39;49m\u001b[38;5;132;43;01m%1.1f\u001b[39;49;00m\u001b[38;5;124;43m,\u001b[39;49m\u001b[38;5;132;43;01m%1.1f\u001b[39;49;00m\u001b[38;5;124;43m, \u001b[39;49m\u001b[38;5;132;43;01m%1.1f\u001b[39;49;00m\u001b[38;5;124;43m,\u001b[39;49m\u001b[38;5;132;43;01m%1.1f\u001b[39;49;00m\u001b[38;5;124;43m] predicted CO2 is : \u001b[39;49m\u001b[38;5;132;43;01m%d\u001b[39;49;00m\u001b[38;5;124;43m'\u001b[39;49m\u001b[43m \u001b[49m\u001b[38;5;241;43m%\u001b[39;49m\u001b[43m \u001b[49m\u001b[43m(\u001b[49m\u001b[43mx1\u001b[49m\u001b[43m,\u001b[49m\u001b[43mx2\u001b[49m\u001b[43m,\u001b[49m\u001b[43mx3\u001b[49m\u001b[43m,\u001b[49m\u001b[43mx4\u001b[49m\u001b[43m,\u001b[49m\u001b[43mx5\u001b[49m\u001b[43m,\u001b[49m\u001b[43myhat\u001b[49m\u001b[43m)\u001b[49m)\n",
          "\u001b[0;31mTypeError\u001b[0m: %d format: a real number is required, not numpy.ndarray"
         ]
        }
       ]
      }
     },
     "bcd5d4daee8a4b3caa22cf5beaf9618c": {
      "model_module": "@jupyter-widgets/base",
      "model_module_version": "1.2.0",
      "model_name": "LayoutModel",
      "state": {
       "_model_module": "@jupyter-widgets/base",
       "_model_module_version": "1.2.0",
       "_model_name": "LayoutModel",
       "_view_count": null,
       "_view_module": "@jupyter-widgets/base",
       "_view_module_version": "1.2.0",
       "_view_name": "LayoutView",
       "align_content": null,
       "align_items": null,
       "align_self": null,
       "border": null,
       "bottom": null,
       "display": null,
       "flex": null,
       "flex_flow": null,
       "grid_area": null,
       "grid_auto_columns": null,
       "grid_auto_flow": null,
       "grid_auto_rows": null,
       "grid_column": null,
       "grid_gap": null,
       "grid_row": null,
       "grid_template_areas": null,
       "grid_template_columns": null,
       "grid_template_rows": null,
       "height": null,
       "justify_content": null,
       "justify_items": null,
       "left": null,
       "margin": null,
       "max_height": null,
       "max_width": null,
       "min_height": null,
       "min_width": null,
       "object_fit": null,
       "object_position": null,
       "order": null,
       "overflow": null,
       "overflow_x": null,
       "overflow_y": null,
       "padding": null,
       "right": null,
       "top": null,
       "visibility": null,
       "width": null
      }
     },
     "be40f83cdbb240d38349993faf45496c": {
      "model_module": "@jupyter-widgets/base",
      "model_module_version": "1.2.0",
      "model_name": "LayoutModel",
      "state": {
       "_model_module": "@jupyter-widgets/base",
       "_model_module_version": "1.2.0",
       "_model_name": "LayoutModel",
       "_view_count": null,
       "_view_module": "@jupyter-widgets/base",
       "_view_module_version": "1.2.0",
       "_view_name": "LayoutView",
       "align_content": null,
       "align_items": null,
       "align_self": null,
       "border": null,
       "bottom": null,
       "display": null,
       "flex": null,
       "flex_flow": null,
       "grid_area": null,
       "grid_auto_columns": null,
       "grid_auto_flow": null,
       "grid_auto_rows": null,
       "grid_column": null,
       "grid_gap": null,
       "grid_row": null,
       "grid_template_areas": null,
       "grid_template_columns": null,
       "grid_template_rows": null,
       "height": null,
       "justify_content": null,
       "justify_items": null,
       "left": null,
       "margin": null,
       "max_height": null,
       "max_width": null,
       "min_height": null,
       "min_width": null,
       "object_fit": null,
       "object_position": null,
       "order": null,
       "overflow": null,
       "overflow_x": null,
       "overflow_y": null,
       "padding": null,
       "right": null,
       "top": null,
       "visibility": null,
       "width": null
      }
     },
     "d6bab5ee8e37400b90bd10ab54c05072": {
      "model_module": "@jupyter-widgets/controls",
      "model_module_version": "1.5.0",
      "model_name": "FloatSliderModel",
      "state": {
       "_dom_classes": [],
       "_model_module": "@jupyter-widgets/controls",
       "_model_module_version": "1.5.0",
       "_model_name": "FloatSliderModel",
       "_view_count": null,
       "_view_module": "@jupyter-widgets/controls",
       "_view_module_version": "1.5.0",
       "_view_name": "FloatSliderView",
       "continuous_update": true,
       "description": "Fuel Con Hwy",
       "description_tooltip": null,
       "disabled": false,
       "layout": "IPY_MODEL_f9af061947ee40c8adca198f5c1f2dc4",
       "max": 21.0,
       "min": 4.0,
       "orientation": "horizontal",
       "readout": true,
       "readout_format": ".2f",
       "step": 0.1,
       "style": "IPY_MODEL_59a3fbb41c914497b72e3985b68e53c7",
       "value": 4.0
      }
     },
     "d77d9af87caf43f4baeb8c3750f4d8b0": {
      "model_module": "@jupyter-widgets/controls",
      "model_module_version": "1.5.0",
      "model_name": "VBoxModel",
      "state": {
       "_dom_classes": [
        "widget-interact"
       ],
       "_model_module": "@jupyter-widgets/controls",
       "_model_module_version": "1.5.0",
       "_model_name": "VBoxModel",
       "_view_count": null,
       "_view_module": "@jupyter-widgets/controls",
       "_view_module_version": "1.5.0",
       "_view_name": "VBoxView",
       "box_style": "",
       "children": [
        "IPY_MODEL_9bc75f82eadf4268943cbe6b94cf0026",
        "IPY_MODEL_86759d36820e4593b03b291b5d6a12ce",
        "IPY_MODEL_013f9d955f4d4d5892da21ce3eeb0ca9",
        "IPY_MODEL_4caaa4c2894e42a7a21731081d4c9a27",
        "IPY_MODEL_659c81928dd642639e1b8452697e2d47",
        "IPY_MODEL_5862631da9654a92925015a30ea36486"
       ],
       "layout": "IPY_MODEL_f99e3159eefe4d7eb25a9a3477d47400"
      }
     },
     "df233065774f4f4eb7e9e2d00fe38c8f": {
      "model_module": "@jupyter-widgets/base",
      "model_module_version": "1.2.0",
      "model_name": "LayoutModel",
      "state": {
       "_model_module": "@jupyter-widgets/base",
       "_model_module_version": "1.2.0",
       "_model_name": "LayoutModel",
       "_view_count": null,
       "_view_module": "@jupyter-widgets/base",
       "_view_module_version": "1.2.0",
       "_view_name": "LayoutView",
       "align_content": null,
       "align_items": null,
       "align_self": null,
       "border": null,
       "bottom": null,
       "display": null,
       "flex": null,
       "flex_flow": null,
       "grid_area": null,
       "grid_auto_columns": null,
       "grid_auto_flow": null,
       "grid_auto_rows": null,
       "grid_column": null,
       "grid_gap": null,
       "grid_row": null,
       "grid_template_areas": null,
       "grid_template_columns": null,
       "grid_template_rows": null,
       "height": null,
       "justify_content": null,
       "justify_items": null,
       "left": null,
       "margin": null,
       "max_height": null,
       "max_width": null,
       "min_height": null,
       "min_width": null,
       "object_fit": null,
       "object_position": null,
       "order": null,
       "overflow": null,
       "overflow_x": null,
       "overflow_y": null,
       "padding": null,
       "right": null,
       "top": null,
       "visibility": null,
       "width": null
      }
     },
     "e395ed13c8e245b9b0849faf677fd0df": {
      "model_module": "@jupyter-widgets/controls",
      "model_module_version": "1.5.0",
      "model_name": "SliderStyleModel",
      "state": {
       "_model_module": "@jupyter-widgets/controls",
       "_model_module_version": "1.5.0",
       "_model_name": "SliderStyleModel",
       "_view_count": null,
       "_view_module": "@jupyter-widgets/base",
       "_view_module_version": "1.2.0",
       "_view_name": "StyleView",
       "description_width": "",
       "handle_color": null
      }
     },
     "eebb1687b1a246bf8e2877943be967b7": {
      "model_module": "@jupyter-widgets/base",
      "model_module_version": "1.2.0",
      "model_name": "LayoutModel",
      "state": {
       "_model_module": "@jupyter-widgets/base",
       "_model_module_version": "1.2.0",
       "_model_name": "LayoutModel",
       "_view_count": null,
       "_view_module": "@jupyter-widgets/base",
       "_view_module_version": "1.2.0",
       "_view_name": "LayoutView",
       "align_content": null,
       "align_items": null,
       "align_self": null,
       "border": null,
       "bottom": null,
       "display": null,
       "flex": null,
       "flex_flow": null,
       "grid_area": null,
       "grid_auto_columns": null,
       "grid_auto_flow": null,
       "grid_auto_rows": null,
       "grid_column": null,
       "grid_gap": null,
       "grid_row": null,
       "grid_template_areas": null,
       "grid_template_columns": null,
       "grid_template_rows": null,
       "height": null,
       "justify_content": null,
       "justify_items": null,
       "left": null,
       "margin": null,
       "max_height": null,
       "max_width": null,
       "min_height": null,
       "min_width": null,
       "object_fit": null,
       "object_position": null,
       "order": null,
       "overflow": null,
       "overflow_x": null,
       "overflow_y": null,
       "padding": null,
       "right": null,
       "top": null,
       "visibility": null,
       "width": null
      }
     },
     "f8eb7ba8982641d68d995503b77e6d2c": {
      "model_module": "@jupyter-widgets/base",
      "model_module_version": "1.2.0",
      "model_name": "LayoutModel",
      "state": {
       "_model_module": "@jupyter-widgets/base",
       "_model_module_version": "1.2.0",
       "_model_name": "LayoutModel",
       "_view_count": null,
       "_view_module": "@jupyter-widgets/base",
       "_view_module_version": "1.2.0",
       "_view_name": "LayoutView",
       "align_content": null,
       "align_items": null,
       "align_self": null,
       "border": null,
       "bottom": null,
       "display": null,
       "flex": null,
       "flex_flow": null,
       "grid_area": null,
       "grid_auto_columns": null,
       "grid_auto_flow": null,
       "grid_auto_rows": null,
       "grid_column": null,
       "grid_gap": null,
       "grid_row": null,
       "grid_template_areas": null,
       "grid_template_columns": null,
       "grid_template_rows": null,
       "height": null,
       "justify_content": null,
       "justify_items": null,
       "left": null,
       "margin": null,
       "max_height": null,
       "max_width": null,
       "min_height": null,
       "min_width": null,
       "object_fit": null,
       "object_position": null,
       "order": null,
       "overflow": null,
       "overflow_x": null,
       "overflow_y": null,
       "padding": null,
       "right": null,
       "top": null,
       "visibility": null,
       "width": null
      }
     },
     "f99e3159eefe4d7eb25a9a3477d47400": {
      "model_module": "@jupyter-widgets/base",
      "model_module_version": "1.2.0",
      "model_name": "LayoutModel",
      "state": {
       "_model_module": "@jupyter-widgets/base",
       "_model_module_version": "1.2.0",
       "_model_name": "LayoutModel",
       "_view_count": null,
       "_view_module": "@jupyter-widgets/base",
       "_view_module_version": "1.2.0",
       "_view_name": "LayoutView",
       "align_content": null,
       "align_items": null,
       "align_self": null,
       "border": null,
       "bottom": null,
       "display": null,
       "flex": null,
       "flex_flow": null,
       "grid_area": null,
       "grid_auto_columns": null,
       "grid_auto_flow": null,
       "grid_auto_rows": null,
       "grid_column": null,
       "grid_gap": null,
       "grid_row": null,
       "grid_template_areas": null,
       "grid_template_columns": null,
       "grid_template_rows": null,
       "height": null,
       "justify_content": null,
       "justify_items": null,
       "left": null,
       "margin": null,
       "max_height": null,
       "max_width": null,
       "min_height": null,
       "min_width": null,
       "object_fit": null,
       "object_position": null,
       "order": null,
       "overflow": null,
       "overflow_x": null,
       "overflow_y": null,
       "padding": null,
       "right": null,
       "top": null,
       "visibility": null,
       "width": null
      }
     },
     "f9af061947ee40c8adca198f5c1f2dc4": {
      "model_module": "@jupyter-widgets/base",
      "model_module_version": "1.2.0",
      "model_name": "LayoutModel",
      "state": {
       "_model_module": "@jupyter-widgets/base",
       "_model_module_version": "1.2.0",
       "_model_name": "LayoutModel",
       "_view_count": null,
       "_view_module": "@jupyter-widgets/base",
       "_view_module_version": "1.2.0",
       "_view_name": "LayoutView",
       "align_content": null,
       "align_items": null,
       "align_self": null,
       "border": null,
       "bottom": null,
       "display": null,
       "flex": null,
       "flex_flow": null,
       "grid_area": null,
       "grid_auto_columns": null,
       "grid_auto_flow": null,
       "grid_auto_rows": null,
       "grid_column": null,
       "grid_gap": null,
       "grid_row": null,
       "grid_template_areas": null,
       "grid_template_columns": null,
       "grid_template_rows": null,
       "height": null,
       "justify_content": null,
       "justify_items": null,
       "left": null,
       "margin": null,
       "max_height": null,
       "max_width": null,
       "min_height": null,
       "min_width": null,
       "object_fit": null,
       "object_position": null,
       "order": null,
       "overflow": null,
       "overflow_x": null,
       "overflow_y": null,
       "padding": null,
       "right": null,
       "top": null,
       "visibility": null,
       "width": null
      }
     }
    },
    "version_major": 2,
    "version_minor": 0
   }
  }
 },
 "nbformat": 4,
 "nbformat_minor": 5
}
